{
 "cells": [
  {
   "cell_type": "code",
   "execution_count": 1,
   "id": "d1672921",
   "metadata": {},
   "outputs": [],
   "source": [
    "import pandas as pd\n",
    "import numpy as np\n",
    "import seaborn as sns\n",
    "import matplotlib.pyplot as plt"
   ]
  },
  {
   "cell_type": "code",
   "execution_count": 2,
   "id": "44d1b54f",
   "metadata": {},
   "outputs": [],
   "source": [
    "ride_data = pd.read_csv(\"UberDataset.csv\", parse_dates=True)"
   ]
  },
  {
   "cell_type": "code",
   "execution_count": 3,
   "id": "44bcbb5d",
   "metadata": {},
   "outputs": [
    {
     "data": {
      "text/html": [
       "<div>\n",
       "<style scoped>\n",
       "    .dataframe tbody tr th:only-of-type {\n",
       "        vertical-align: middle;\n",
       "    }\n",
       "\n",
       "    .dataframe tbody tr th {\n",
       "        vertical-align: top;\n",
       "    }\n",
       "\n",
       "    .dataframe thead th {\n",
       "        text-align: right;\n",
       "    }\n",
       "</style>\n",
       "<table border=\"1\" class=\"dataframe\">\n",
       "  <thead>\n",
       "    <tr style=\"text-align: right;\">\n",
       "      <th></th>\n",
       "      <th>START_DATE</th>\n",
       "      <th>END_DATE</th>\n",
       "      <th>CATEGORY</th>\n",
       "      <th>START</th>\n",
       "      <th>STOP</th>\n",
       "      <th>MILES</th>\n",
       "      <th>PURPOSE</th>\n",
       "    </tr>\n",
       "  </thead>\n",
       "  <tbody>\n",
       "    <tr>\n",
       "      <th>0</th>\n",
       "      <td>01-01-2016 21:11</td>\n",
       "      <td>01-01-2016 21:17</td>\n",
       "      <td>Business</td>\n",
       "      <td>Fort Pierce</td>\n",
       "      <td>Fort Pierce</td>\n",
       "      <td>5.1</td>\n",
       "      <td>Meal/Entertain</td>\n",
       "    </tr>\n",
       "    <tr>\n",
       "      <th>1</th>\n",
       "      <td>01-02-2016 01:25</td>\n",
       "      <td>01-02-2016 01:37</td>\n",
       "      <td>Business</td>\n",
       "      <td>Fort Pierce</td>\n",
       "      <td>Fort Pierce</td>\n",
       "      <td>5.0</td>\n",
       "      <td>NaN</td>\n",
       "    </tr>\n",
       "    <tr>\n",
       "      <th>2</th>\n",
       "      <td>01-02-2016 20:25</td>\n",
       "      <td>01-02-2016 20:38</td>\n",
       "      <td>Business</td>\n",
       "      <td>Fort Pierce</td>\n",
       "      <td>Fort Pierce</td>\n",
       "      <td>4.8</td>\n",
       "      <td>Errand/Supplies</td>\n",
       "    </tr>\n",
       "    <tr>\n",
       "      <th>3</th>\n",
       "      <td>01-05-2016 17:31</td>\n",
       "      <td>01-05-2016 17:45</td>\n",
       "      <td>Business</td>\n",
       "      <td>Fort Pierce</td>\n",
       "      <td>Fort Pierce</td>\n",
       "      <td>4.7</td>\n",
       "      <td>Meeting</td>\n",
       "    </tr>\n",
       "    <tr>\n",
       "      <th>4</th>\n",
       "      <td>01-06-2016 14:42</td>\n",
       "      <td>01-06-2016 15:49</td>\n",
       "      <td>Business</td>\n",
       "      <td>Fort Pierce</td>\n",
       "      <td>West Palm Beach</td>\n",
       "      <td>63.7</td>\n",
       "      <td>Customer Visit</td>\n",
       "    </tr>\n",
       "  </tbody>\n",
       "</table>\n",
       "</div>"
      ],
      "text/plain": [
       "         START_DATE          END_DATE  CATEGORY        START             STOP  \\\n",
       "0  01-01-2016 21:11  01-01-2016 21:17  Business  Fort Pierce      Fort Pierce   \n",
       "1  01-02-2016 01:25  01-02-2016 01:37  Business  Fort Pierce      Fort Pierce   \n",
       "2  01-02-2016 20:25  01-02-2016 20:38  Business  Fort Pierce      Fort Pierce   \n",
       "3  01-05-2016 17:31  01-05-2016 17:45  Business  Fort Pierce      Fort Pierce   \n",
       "4  01-06-2016 14:42  01-06-2016 15:49  Business  Fort Pierce  West Palm Beach   \n",
       "\n",
       "   MILES          PURPOSE  \n",
       "0    5.1   Meal/Entertain  \n",
       "1    5.0              NaN  \n",
       "2    4.8  Errand/Supplies  \n",
       "3    4.7          Meeting  \n",
       "4   63.7   Customer Visit  "
      ]
     },
     "execution_count": 3,
     "metadata": {},
     "output_type": "execute_result"
    }
   ],
   "source": [
    "ride_data.head()"
   ]
  },
  {
   "cell_type": "code",
   "execution_count": 4,
   "id": "55f89215",
   "metadata": {},
   "outputs": [
    {
     "data": {
      "text/plain": [
       "(1156, 7)"
      ]
     },
     "execution_count": 4,
     "metadata": {},
     "output_type": "execute_result"
    }
   ],
   "source": [
    "ride_data.shape"
   ]
  },
  {
   "cell_type": "code",
   "execution_count": 5,
   "id": "cb694754",
   "metadata": {},
   "outputs": [
    {
     "data": {
      "text/html": [
       "<div>\n",
       "<style scoped>\n",
       "    .dataframe tbody tr th:only-of-type {\n",
       "        vertical-align: middle;\n",
       "    }\n",
       "\n",
       "    .dataframe tbody tr th {\n",
       "        vertical-align: top;\n",
       "    }\n",
       "\n",
       "    .dataframe thead th {\n",
       "        text-align: right;\n",
       "    }\n",
       "</style>\n",
       "<table border=\"1\" class=\"dataframe\">\n",
       "  <thead>\n",
       "    <tr style=\"text-align: right;\">\n",
       "      <th></th>\n",
       "      <th>START_DATE</th>\n",
       "      <th>END_DATE</th>\n",
       "      <th>CATEGORY</th>\n",
       "      <th>START</th>\n",
       "      <th>STOP</th>\n",
       "      <th>MILES</th>\n",
       "      <th>PURPOSE</th>\n",
       "    </tr>\n",
       "  </thead>\n",
       "  <tbody>\n",
       "    <tr>\n",
       "      <th>1151</th>\n",
       "      <td>12/31/2016 13:24</td>\n",
       "      <td>12/31/2016 13:42</td>\n",
       "      <td>Business</td>\n",
       "      <td>Kar?chi</td>\n",
       "      <td>Unknown Location</td>\n",
       "      <td>3.9</td>\n",
       "      <td>Temporary Site</td>\n",
       "    </tr>\n",
       "    <tr>\n",
       "      <th>1152</th>\n",
       "      <td>12/31/2016 15:03</td>\n",
       "      <td>12/31/2016 15:38</td>\n",
       "      <td>Business</td>\n",
       "      <td>Unknown Location</td>\n",
       "      <td>Unknown Location</td>\n",
       "      <td>16.2</td>\n",
       "      <td>Meeting</td>\n",
       "    </tr>\n",
       "    <tr>\n",
       "      <th>1153</th>\n",
       "      <td>12/31/2016 21:32</td>\n",
       "      <td>12/31/2016 21:50</td>\n",
       "      <td>Business</td>\n",
       "      <td>Katunayake</td>\n",
       "      <td>Gampaha</td>\n",
       "      <td>6.4</td>\n",
       "      <td>Temporary Site</td>\n",
       "    </tr>\n",
       "    <tr>\n",
       "      <th>1154</th>\n",
       "      <td>12/31/2016 22:08</td>\n",
       "      <td>12/31/2016 23:51</td>\n",
       "      <td>Business</td>\n",
       "      <td>Gampaha</td>\n",
       "      <td>Ilukwatta</td>\n",
       "      <td>48.2</td>\n",
       "      <td>Temporary Site</td>\n",
       "    </tr>\n",
       "    <tr>\n",
       "      <th>1155</th>\n",
       "      <td>Totals</td>\n",
       "      <td>NaN</td>\n",
       "      <td>NaN</td>\n",
       "      <td>NaN</td>\n",
       "      <td>NaN</td>\n",
       "      <td>12204.7</td>\n",
       "      <td>NaN</td>\n",
       "    </tr>\n",
       "  </tbody>\n",
       "</table>\n",
       "</div>"
      ],
      "text/plain": [
       "            START_DATE          END_DATE  CATEGORY             START  \\\n",
       "1151  12/31/2016 13:24  12/31/2016 13:42  Business           Kar?chi   \n",
       "1152  12/31/2016 15:03  12/31/2016 15:38  Business  Unknown Location   \n",
       "1153  12/31/2016 21:32  12/31/2016 21:50  Business        Katunayake   \n",
       "1154  12/31/2016 22:08  12/31/2016 23:51  Business           Gampaha   \n",
       "1155            Totals               NaN       NaN               NaN   \n",
       "\n",
       "                  STOP    MILES         PURPOSE  \n",
       "1151  Unknown Location      3.9  Temporary Site  \n",
       "1152  Unknown Location     16.2         Meeting  \n",
       "1153           Gampaha      6.4  Temporary Site  \n",
       "1154         Ilukwatta     48.2  Temporary Site  \n",
       "1155               NaN  12204.7             NaN  "
      ]
     },
     "execution_count": 5,
     "metadata": {},
     "output_type": "execute_result"
    }
   ],
   "source": [
    "ride_data.tail()"
   ]
  },
  {
   "cell_type": "code",
   "execution_count": 6,
   "id": "ac9f3acd",
   "metadata": {},
   "outputs": [
    {
     "data": {
      "text/html": [
       "<div>\n",
       "<style scoped>\n",
       "    .dataframe tbody tr th:only-of-type {\n",
       "        vertical-align: middle;\n",
       "    }\n",
       "\n",
       "    .dataframe tbody tr th {\n",
       "        vertical-align: top;\n",
       "    }\n",
       "\n",
       "    .dataframe thead th {\n",
       "        text-align: right;\n",
       "    }\n",
       "</style>\n",
       "<table border=\"1\" class=\"dataframe\">\n",
       "  <thead>\n",
       "    <tr style=\"text-align: right;\">\n",
       "      <th></th>\n",
       "      <th>START_DATE</th>\n",
       "      <th>END_DATE</th>\n",
       "      <th>CATEGORY</th>\n",
       "      <th>START</th>\n",
       "      <th>STOP</th>\n",
       "      <th>MILES</th>\n",
       "      <th>PURPOSE</th>\n",
       "    </tr>\n",
       "  </thead>\n",
       "  <tbody>\n",
       "    <tr>\n",
       "      <th>count</th>\n",
       "      <td>1156</td>\n",
       "      <td>1155</td>\n",
       "      <td>1155</td>\n",
       "      <td>1155</td>\n",
       "      <td>1155</td>\n",
       "      <td>1156.000000</td>\n",
       "      <td>653</td>\n",
       "    </tr>\n",
       "    <tr>\n",
       "      <th>unique</th>\n",
       "      <td>1155</td>\n",
       "      <td>1154</td>\n",
       "      <td>2</td>\n",
       "      <td>177</td>\n",
       "      <td>188</td>\n",
       "      <td>NaN</td>\n",
       "      <td>10</td>\n",
       "    </tr>\n",
       "    <tr>\n",
       "      <th>top</th>\n",
       "      <td>6/28/2016 23:34</td>\n",
       "      <td>6/28/2016 23:59</td>\n",
       "      <td>Business</td>\n",
       "      <td>Cary</td>\n",
       "      <td>Cary</td>\n",
       "      <td>NaN</td>\n",
       "      <td>Meeting</td>\n",
       "    </tr>\n",
       "    <tr>\n",
       "      <th>freq</th>\n",
       "      <td>2</td>\n",
       "      <td>2</td>\n",
       "      <td>1078</td>\n",
       "      <td>201</td>\n",
       "      <td>203</td>\n",
       "      <td>NaN</td>\n",
       "      <td>187</td>\n",
       "    </tr>\n",
       "    <tr>\n",
       "      <th>mean</th>\n",
       "      <td>NaN</td>\n",
       "      <td>NaN</td>\n",
       "      <td>NaN</td>\n",
       "      <td>NaN</td>\n",
       "      <td>NaN</td>\n",
       "      <td>21.115398</td>\n",
       "      <td>NaN</td>\n",
       "    </tr>\n",
       "    <tr>\n",
       "      <th>std</th>\n",
       "      <td>NaN</td>\n",
       "      <td>NaN</td>\n",
       "      <td>NaN</td>\n",
       "      <td>NaN</td>\n",
       "      <td>NaN</td>\n",
       "      <td>359.299007</td>\n",
       "      <td>NaN</td>\n",
       "    </tr>\n",
       "    <tr>\n",
       "      <th>min</th>\n",
       "      <td>NaN</td>\n",
       "      <td>NaN</td>\n",
       "      <td>NaN</td>\n",
       "      <td>NaN</td>\n",
       "      <td>NaN</td>\n",
       "      <td>0.500000</td>\n",
       "      <td>NaN</td>\n",
       "    </tr>\n",
       "    <tr>\n",
       "      <th>25%</th>\n",
       "      <td>NaN</td>\n",
       "      <td>NaN</td>\n",
       "      <td>NaN</td>\n",
       "      <td>NaN</td>\n",
       "      <td>NaN</td>\n",
       "      <td>2.900000</td>\n",
       "      <td>NaN</td>\n",
       "    </tr>\n",
       "    <tr>\n",
       "      <th>50%</th>\n",
       "      <td>NaN</td>\n",
       "      <td>NaN</td>\n",
       "      <td>NaN</td>\n",
       "      <td>NaN</td>\n",
       "      <td>NaN</td>\n",
       "      <td>6.000000</td>\n",
       "      <td>NaN</td>\n",
       "    </tr>\n",
       "    <tr>\n",
       "      <th>75%</th>\n",
       "      <td>NaN</td>\n",
       "      <td>NaN</td>\n",
       "      <td>NaN</td>\n",
       "      <td>NaN</td>\n",
       "      <td>NaN</td>\n",
       "      <td>10.400000</td>\n",
       "      <td>NaN</td>\n",
       "    </tr>\n",
       "    <tr>\n",
       "      <th>max</th>\n",
       "      <td>NaN</td>\n",
       "      <td>NaN</td>\n",
       "      <td>NaN</td>\n",
       "      <td>NaN</td>\n",
       "      <td>NaN</td>\n",
       "      <td>12204.700000</td>\n",
       "      <td>NaN</td>\n",
       "    </tr>\n",
       "  </tbody>\n",
       "</table>\n",
       "</div>"
      ],
      "text/plain": [
       "             START_DATE         END_DATE  CATEGORY START  STOP         MILES  \\\n",
       "count              1156             1155      1155  1155  1155   1156.000000   \n",
       "unique             1155             1154         2   177   188           NaN   \n",
       "top     6/28/2016 23:34  6/28/2016 23:59  Business  Cary  Cary           NaN   \n",
       "freq                  2                2      1078   201   203           NaN   \n",
       "mean                NaN              NaN       NaN   NaN   NaN     21.115398   \n",
       "std                 NaN              NaN       NaN   NaN   NaN    359.299007   \n",
       "min                 NaN              NaN       NaN   NaN   NaN      0.500000   \n",
       "25%                 NaN              NaN       NaN   NaN   NaN      2.900000   \n",
       "50%                 NaN              NaN       NaN   NaN   NaN      6.000000   \n",
       "75%                 NaN              NaN       NaN   NaN   NaN     10.400000   \n",
       "max                 NaN              NaN       NaN   NaN   NaN  12204.700000   \n",
       "\n",
       "        PURPOSE  \n",
       "count       653  \n",
       "unique       10  \n",
       "top     Meeting  \n",
       "freq        187  \n",
       "mean        NaN  \n",
       "std         NaN  \n",
       "min         NaN  \n",
       "25%         NaN  \n",
       "50%         NaN  \n",
       "75%         NaN  \n",
       "max         NaN  "
      ]
     },
     "execution_count": 6,
     "metadata": {},
     "output_type": "execute_result"
    }
   ],
   "source": [
    "ride_data.describe(include='all')"
   ]
  },
  {
   "cell_type": "code",
   "execution_count": 7,
   "id": "d558cfbc",
   "metadata": {},
   "outputs": [
    {
     "name": "stdout",
     "output_type": "stream",
     "text": [
      "<class 'pandas.core.frame.DataFrame'>\n",
      "RangeIndex: 1156 entries, 0 to 1155\n",
      "Data columns (total 7 columns):\n",
      " #   Column      Non-Null Count  Dtype  \n",
      "---  ------      --------------  -----  \n",
      " 0   START_DATE  1156 non-null   object \n",
      " 1   END_DATE    1155 non-null   object \n",
      " 2   CATEGORY    1155 non-null   object \n",
      " 3   START       1155 non-null   object \n",
      " 4   STOP        1155 non-null   object \n",
      " 5   MILES       1156 non-null   float64\n",
      " 6   PURPOSE     653 non-null    object \n",
      "dtypes: float64(1), object(6)\n",
      "memory usage: 63.3+ KB\n"
     ]
    }
   ],
   "source": [
    "ride_data.info()"
   ]
  },
  {
   "cell_type": "code",
   "execution_count": 8,
   "id": "5e004d86",
   "metadata": {},
   "outputs": [],
   "source": [
    "# Converting data types\n",
    "ride_data['START_DATE'] = pd.to_datetime(ride_data['START_DATE'],format=\"%m/%d/%Y %H:%M\",errors='coerce')\n",
    "ride_data['END_DATE'] = pd.to_datetime(ride_data['END_DATE'],format=\"%m/%d/%Y %H:%M\",errors='coerce')"
   ]
  },
  {
   "cell_type": "code",
   "execution_count": 9,
   "id": "1a167a6a",
   "metadata": {},
   "outputs": [
    {
     "name": "stdout",
     "output_type": "stream",
     "text": [
      "<class 'pandas.core.frame.DataFrame'>\n",
      "RangeIndex: 1156 entries, 0 to 1155\n",
      "Data columns (total 7 columns):\n",
      " #   Column      Non-Null Count  Dtype         \n",
      "---  ------      --------------  -----         \n",
      " 0   START_DATE  734 non-null    datetime64[ns]\n",
      " 1   END_DATE    735 non-null    datetime64[ns]\n",
      " 2   CATEGORY    1155 non-null   object        \n",
      " 3   START       1155 non-null   object        \n",
      " 4   STOP        1155 non-null   object        \n",
      " 5   MILES       1156 non-null   float64       \n",
      " 6   PURPOSE     653 non-null    object        \n",
      "dtypes: datetime64[ns](2), float64(1), object(4)\n",
      "memory usage: 63.3+ KB\n"
     ]
    }
   ],
   "source": [
    "ride_data.info()"
   ]
  },
  {
   "cell_type": "code",
   "execution_count": 10,
   "id": "0dcdded5",
   "metadata": {},
   "outputs": [
    {
     "data": {
      "text/html": [
       "<div>\n",
       "<style scoped>\n",
       "    .dataframe tbody tr th:only-of-type {\n",
       "        vertical-align: middle;\n",
       "    }\n",
       "\n",
       "    .dataframe tbody tr th {\n",
       "        vertical-align: top;\n",
       "    }\n",
       "\n",
       "    .dataframe thead th {\n",
       "        text-align: right;\n",
       "    }\n",
       "</style>\n",
       "<table border=\"1\" class=\"dataframe\">\n",
       "  <thead>\n",
       "    <tr style=\"text-align: right;\">\n",
       "      <th></th>\n",
       "      <th>START_DATE</th>\n",
       "      <th>END_DATE</th>\n",
       "      <th>CATEGORY</th>\n",
       "      <th>START</th>\n",
       "      <th>STOP</th>\n",
       "      <th>MILES</th>\n",
       "      <th>PURPOSE</th>\n",
       "    </tr>\n",
       "  </thead>\n",
       "  <tbody>\n",
       "    <tr>\n",
       "      <th>71</th>\n",
       "      <td>NaT</td>\n",
       "      <td>NaT</td>\n",
       "      <td>Business</td>\n",
       "      <td>Cary</td>\n",
       "      <td>Cary</td>\n",
       "      <td>1.6</td>\n",
       "      <td>Meal/Entertain</td>\n",
       "    </tr>\n",
       "    <tr>\n",
       "      <th>185</th>\n",
       "      <td>NaT</td>\n",
       "      <td>NaT</td>\n",
       "      <td>Business</td>\n",
       "      <td>Cary</td>\n",
       "      <td>Durham</td>\n",
       "      <td>10.4</td>\n",
       "      <td>Meeting</td>\n",
       "    </tr>\n",
       "    <tr>\n",
       "      <th>207</th>\n",
       "      <td>NaT</td>\n",
       "      <td>NaT</td>\n",
       "      <td>Business</td>\n",
       "      <td>Cary</td>\n",
       "      <td>Morrisville</td>\n",
       "      <td>8.4</td>\n",
       "      <td>Meeting</td>\n",
       "    </tr>\n",
       "    <tr>\n",
       "      <th>309</th>\n",
       "      <td>NaT</td>\n",
       "      <td>NaT</td>\n",
       "      <td>Business</td>\n",
       "      <td>Whitebridge</td>\n",
       "      <td>Edgehill Farms</td>\n",
       "      <td>2.8</td>\n",
       "      <td>Errand/Supplies</td>\n",
       "    </tr>\n",
       "    <tr>\n",
       "      <th>394</th>\n",
       "      <td>NaT</td>\n",
       "      <td>NaT</td>\n",
       "      <td>Business</td>\n",
       "      <td>Cary</td>\n",
       "      <td>Durham</td>\n",
       "      <td>10.4</td>\n",
       "      <td>Meeting</td>\n",
       "    </tr>\n",
       "    <tr>\n",
       "      <th>404</th>\n",
       "      <td>NaT</td>\n",
       "      <td>NaT</td>\n",
       "      <td>Business</td>\n",
       "      <td>Morrisville</td>\n",
       "      <td>Cary</td>\n",
       "      <td>2.5</td>\n",
       "      <td>Meal/Entertain</td>\n",
       "    </tr>\n",
       "    <tr>\n",
       "      <th>405</th>\n",
       "      <td>NaT</td>\n",
       "      <td>NaT</td>\n",
       "      <td>Business</td>\n",
       "      <td>Cary</td>\n",
       "      <td>Durham</td>\n",
       "      <td>9.9</td>\n",
       "      <td>Meeting</td>\n",
       "    </tr>\n",
       "    <tr>\n",
       "      <th>406</th>\n",
       "      <td>NaT</td>\n",
       "      <td>NaT</td>\n",
       "      <td>Business</td>\n",
       "      <td>Durham</td>\n",
       "      <td>Cary</td>\n",
       "      <td>9.9</td>\n",
       "      <td>Meeting</td>\n",
       "    </tr>\n",
       "    <tr>\n",
       "      <th>411</th>\n",
       "      <td>NaT</td>\n",
       "      <td>NaT</td>\n",
       "      <td>Business</td>\n",
       "      <td>Cary</td>\n",
       "      <td>Durham</td>\n",
       "      <td>10.4</td>\n",
       "      <td>Meeting</td>\n",
       "    </tr>\n",
       "    <tr>\n",
       "      <th>412</th>\n",
       "      <td>NaT</td>\n",
       "      <td>NaT</td>\n",
       "      <td>Business</td>\n",
       "      <td>Durham</td>\n",
       "      <td>Cary</td>\n",
       "      <td>9.9</td>\n",
       "      <td>Meeting</td>\n",
       "    </tr>\n",
       "    <tr>\n",
       "      <th>413</th>\n",
       "      <td>NaT</td>\n",
       "      <td>NaT</td>\n",
       "      <td>Business</td>\n",
       "      <td>Cary</td>\n",
       "      <td>Durham</td>\n",
       "      <td>10.4</td>\n",
       "      <td>Meeting</td>\n",
       "    </tr>\n",
       "    <tr>\n",
       "      <th>414</th>\n",
       "      <td>NaT</td>\n",
       "      <td>NaT</td>\n",
       "      <td>Business</td>\n",
       "      <td>Durham</td>\n",
       "      <td>Cary</td>\n",
       "      <td>9.9</td>\n",
       "      <td>Meeting</td>\n",
       "    </tr>\n",
       "    <tr>\n",
       "      <th>415</th>\n",
       "      <td>NaT</td>\n",
       "      <td>NaT</td>\n",
       "      <td>Business</td>\n",
       "      <td>Cary</td>\n",
       "      <td>Morrisville</td>\n",
       "      <td>8.7</td>\n",
       "      <td>Meal/Entertain</td>\n",
       "    </tr>\n",
       "    <tr>\n",
       "      <th>424</th>\n",
       "      <td>NaT</td>\n",
       "      <td>NaT</td>\n",
       "      <td>Business</td>\n",
       "      <td>Cary</td>\n",
       "      <td>Durham</td>\n",
       "      <td>10.4</td>\n",
       "      <td>Meeting</td>\n",
       "    </tr>\n",
       "    <tr>\n",
       "      <th>425</th>\n",
       "      <td>NaT</td>\n",
       "      <td>NaT</td>\n",
       "      <td>Business</td>\n",
       "      <td>Durham</td>\n",
       "      <td>Cary</td>\n",
       "      <td>9.9</td>\n",
       "      <td>Meeting</td>\n",
       "    </tr>\n",
       "    <tr>\n",
       "      <th>429</th>\n",
       "      <td>NaT</td>\n",
       "      <td>NaT</td>\n",
       "      <td>Business</td>\n",
       "      <td>Cary</td>\n",
       "      <td>Durham</td>\n",
       "      <td>10.4</td>\n",
       "      <td>Meeting</td>\n",
       "    </tr>\n",
       "    <tr>\n",
       "      <th>430</th>\n",
       "      <td>NaT</td>\n",
       "      <td>NaT</td>\n",
       "      <td>Business</td>\n",
       "      <td>Durham</td>\n",
       "      <td>Cary</td>\n",
       "      <td>9.9</td>\n",
       "      <td>Meeting</td>\n",
       "    </tr>\n",
       "    <tr>\n",
       "      <th>492</th>\n",
       "      <td>2016-06-28 23:34:00</td>\n",
       "      <td>2016-06-28 23:59:00</td>\n",
       "      <td>Business</td>\n",
       "      <td>Durham</td>\n",
       "      <td>Cary</td>\n",
       "      <td>9.9</td>\n",
       "      <td>Meeting</td>\n",
       "    </tr>\n",
       "    <tr>\n",
       "      <th>500</th>\n",
       "      <td>NaT</td>\n",
       "      <td>NaT</td>\n",
       "      <td>Business</td>\n",
       "      <td>Durham</td>\n",
       "      <td>Cary</td>\n",
       "      <td>9.9</td>\n",
       "      <td>Meeting</td>\n",
       "    </tr>\n",
       "    <tr>\n",
       "      <th>503</th>\n",
       "      <td>NaT</td>\n",
       "      <td>NaT</td>\n",
       "      <td>Business</td>\n",
       "      <td>Cary</td>\n",
       "      <td>Durham</td>\n",
       "      <td>10.5</td>\n",
       "      <td>Meeting</td>\n",
       "    </tr>\n",
       "    <tr>\n",
       "      <th>504</th>\n",
       "      <td>NaT</td>\n",
       "      <td>NaT</td>\n",
       "      <td>Business</td>\n",
       "      <td>Durham</td>\n",
       "      <td>Cary</td>\n",
       "      <td>9.9</td>\n",
       "      <td>Meeting</td>\n",
       "    </tr>\n",
       "    <tr>\n",
       "      <th>506</th>\n",
       "      <td>NaT</td>\n",
       "      <td>NaT</td>\n",
       "      <td>Business</td>\n",
       "      <td>Durham</td>\n",
       "      <td>Cary</td>\n",
       "      <td>9.9</td>\n",
       "      <td>Meeting</td>\n",
       "    </tr>\n",
       "    <tr>\n",
       "      <th>508</th>\n",
       "      <td>NaT</td>\n",
       "      <td>NaT</td>\n",
       "      <td>Business</td>\n",
       "      <td>Morrisville</td>\n",
       "      <td>Cary</td>\n",
       "      <td>3.1</td>\n",
       "      <td>Errand/Supplies</td>\n",
       "    </tr>\n",
       "    <tr>\n",
       "      <th>509</th>\n",
       "      <td>NaT</td>\n",
       "      <td>NaT</td>\n",
       "      <td>Business</td>\n",
       "      <td>Cary</td>\n",
       "      <td>Durham</td>\n",
       "      <td>9.9</td>\n",
       "      <td>Meeting</td>\n",
       "    </tr>\n",
       "    <tr>\n",
       "      <th>510</th>\n",
       "      <td>NaT</td>\n",
       "      <td>NaT</td>\n",
       "      <td>Business</td>\n",
       "      <td>Durham</td>\n",
       "      <td>Cary</td>\n",
       "      <td>9.9</td>\n",
       "      <td>Meeting</td>\n",
       "    </tr>\n",
       "    <tr>\n",
       "      <th>515</th>\n",
       "      <td>NaT</td>\n",
       "      <td>NaT</td>\n",
       "      <td>Business</td>\n",
       "      <td>Durham</td>\n",
       "      <td>Cary</td>\n",
       "      <td>9.9</td>\n",
       "      <td>Meeting</td>\n",
       "    </tr>\n",
       "    <tr>\n",
       "      <th>520</th>\n",
       "      <td>NaT</td>\n",
       "      <td>NaT</td>\n",
       "      <td>Business</td>\n",
       "      <td>Cary</td>\n",
       "      <td>Durham</td>\n",
       "      <td>9.9</td>\n",
       "      <td>Meeting</td>\n",
       "    </tr>\n",
       "    <tr>\n",
       "      <th>620</th>\n",
       "      <td>NaT</td>\n",
       "      <td>NaT</td>\n",
       "      <td>Business</td>\n",
       "      <td>Cary</td>\n",
       "      <td>Morrisville</td>\n",
       "      <td>8.4</td>\n",
       "      <td>Meeting</td>\n",
       "    </tr>\n",
       "    <tr>\n",
       "      <th>635</th>\n",
       "      <td>NaT</td>\n",
       "      <td>NaT</td>\n",
       "      <td>Business</td>\n",
       "      <td>Morrisville</td>\n",
       "      <td>Cary</td>\n",
       "      <td>2.5</td>\n",
       "      <td>Meal/Entertain</td>\n",
       "    </tr>\n",
       "    <tr>\n",
       "      <th>638</th>\n",
       "      <td>NaT</td>\n",
       "      <td>NaT</td>\n",
       "      <td>Business</td>\n",
       "      <td>Edgehill Farms</td>\n",
       "      <td>Whitebridge</td>\n",
       "      <td>2.7</td>\n",
       "      <td>Customer Visit</td>\n",
       "    </tr>\n",
       "    <tr>\n",
       "      <th>894</th>\n",
       "      <td>NaT</td>\n",
       "      <td>NaT</td>\n",
       "      <td>Business</td>\n",
       "      <td>Westpark Place</td>\n",
       "      <td>Whitebridge</td>\n",
       "      <td>1.8</td>\n",
       "      <td>NaN</td>\n",
       "    </tr>\n",
       "    <tr>\n",
       "      <th>900</th>\n",
       "      <td>NaT</td>\n",
       "      <td>NaT</td>\n",
       "      <td>Business</td>\n",
       "      <td>Whitebridge</td>\n",
       "      <td>Westpark Place</td>\n",
       "      <td>1.4</td>\n",
       "      <td>NaN</td>\n",
       "    </tr>\n",
       "    <tr>\n",
       "      <th>901</th>\n",
       "      <td>NaT</td>\n",
       "      <td>NaT</td>\n",
       "      <td>Business</td>\n",
       "      <td>Westpark Place</td>\n",
       "      <td>Whitebridge</td>\n",
       "      <td>1.8</td>\n",
       "      <td>NaN</td>\n",
       "    </tr>\n",
       "    <tr>\n",
       "      <th>903</th>\n",
       "      <td>NaT</td>\n",
       "      <td>NaT</td>\n",
       "      <td>Business</td>\n",
       "      <td>Morrisville</td>\n",
       "      <td>Cary</td>\n",
       "      <td>3.1</td>\n",
       "      <td>Customer Visit</td>\n",
       "    </tr>\n",
       "    <tr>\n",
       "      <th>904</th>\n",
       "      <td>NaT</td>\n",
       "      <td>NaT</td>\n",
       "      <td>Business</td>\n",
       "      <td>Cary</td>\n",
       "      <td>Morrisville</td>\n",
       "      <td>7.9</td>\n",
       "      <td>Temporary Site</td>\n",
       "    </tr>\n",
       "    <tr>\n",
       "      <th>1015</th>\n",
       "      <td>NaT</td>\n",
       "      <td>NaT</td>\n",
       "      <td>Business</td>\n",
       "      <td>Cary</td>\n",
       "      <td>Morrisville</td>\n",
       "      <td>3.3</td>\n",
       "      <td>Meal/Entertain</td>\n",
       "    </tr>\n",
       "    <tr>\n",
       "      <th>1019</th>\n",
       "      <td>NaT</td>\n",
       "      <td>NaT</td>\n",
       "      <td>Business</td>\n",
       "      <td>Morrisville</td>\n",
       "      <td>Cary</td>\n",
       "      <td>3.0</td>\n",
       "      <td>Customer Visit</td>\n",
       "    </tr>\n",
       "    <tr>\n",
       "      <th>1020</th>\n",
       "      <td>NaT</td>\n",
       "      <td>NaT</td>\n",
       "      <td>Business</td>\n",
       "      <td>Cary</td>\n",
       "      <td>Morrisville</td>\n",
       "      <td>2.9</td>\n",
       "      <td>Meal/Entertain</td>\n",
       "    </tr>\n",
       "    <tr>\n",
       "      <th>1029</th>\n",
       "      <td>NaT</td>\n",
       "      <td>NaT</td>\n",
       "      <td>Business</td>\n",
       "      <td>Cary</td>\n",
       "      <td>Cary</td>\n",
       "      <td>3.4</td>\n",
       "      <td>Errand/Supplies</td>\n",
       "    </tr>\n",
       "    <tr>\n",
       "      <th>1039</th>\n",
       "      <td>NaT</td>\n",
       "      <td>NaT</td>\n",
       "      <td>Business</td>\n",
       "      <td>Morrisville</td>\n",
       "      <td>Cary</td>\n",
       "      <td>3.1</td>\n",
       "      <td>Customer Visit</td>\n",
       "    </tr>\n",
       "    <tr>\n",
       "      <th>1040</th>\n",
       "      <td>NaT</td>\n",
       "      <td>NaT</td>\n",
       "      <td>Business</td>\n",
       "      <td>Cary</td>\n",
       "      <td>Morrisville</td>\n",
       "      <td>3.0</td>\n",
       "      <td>Meal/Entertain</td>\n",
       "    </tr>\n",
       "    <tr>\n",
       "      <th>1046</th>\n",
       "      <td>NaT</td>\n",
       "      <td>NaT</td>\n",
       "      <td>Business</td>\n",
       "      <td>Cary</td>\n",
       "      <td>Morrisville</td>\n",
       "      <td>3.0</td>\n",
       "      <td>Meal/Entertain</td>\n",
       "    </tr>\n",
       "    <tr>\n",
       "      <th>1047</th>\n",
       "      <td>NaT</td>\n",
       "      <td>NaT</td>\n",
       "      <td>Business</td>\n",
       "      <td>Morrisville</td>\n",
       "      <td>Cary</td>\n",
       "      <td>3.0</td>\n",
       "      <td>Customer Visit</td>\n",
       "    </tr>\n",
       "  </tbody>\n",
       "</table>\n",
       "</div>"
      ],
      "text/plain": [
       "              START_DATE            END_DATE  CATEGORY           START  \\\n",
       "71                   NaT                 NaT  Business            Cary   \n",
       "185                  NaT                 NaT  Business            Cary   \n",
       "207                  NaT                 NaT  Business            Cary   \n",
       "309                  NaT                 NaT  Business     Whitebridge   \n",
       "394                  NaT                 NaT  Business            Cary   \n",
       "404                  NaT                 NaT  Business     Morrisville   \n",
       "405                  NaT                 NaT  Business            Cary   \n",
       "406                  NaT                 NaT  Business          Durham   \n",
       "411                  NaT                 NaT  Business            Cary   \n",
       "412                  NaT                 NaT  Business          Durham   \n",
       "413                  NaT                 NaT  Business            Cary   \n",
       "414                  NaT                 NaT  Business          Durham   \n",
       "415                  NaT                 NaT  Business            Cary   \n",
       "424                  NaT                 NaT  Business            Cary   \n",
       "425                  NaT                 NaT  Business          Durham   \n",
       "429                  NaT                 NaT  Business            Cary   \n",
       "430                  NaT                 NaT  Business          Durham   \n",
       "492  2016-06-28 23:34:00 2016-06-28 23:59:00  Business          Durham   \n",
       "500                  NaT                 NaT  Business          Durham   \n",
       "503                  NaT                 NaT  Business            Cary   \n",
       "504                  NaT                 NaT  Business          Durham   \n",
       "506                  NaT                 NaT  Business          Durham   \n",
       "508                  NaT                 NaT  Business     Morrisville   \n",
       "509                  NaT                 NaT  Business            Cary   \n",
       "510                  NaT                 NaT  Business          Durham   \n",
       "515                  NaT                 NaT  Business          Durham   \n",
       "520                  NaT                 NaT  Business            Cary   \n",
       "620                  NaT                 NaT  Business            Cary   \n",
       "635                  NaT                 NaT  Business     Morrisville   \n",
       "638                  NaT                 NaT  Business  Edgehill Farms   \n",
       "894                  NaT                 NaT  Business  Westpark Place   \n",
       "900                  NaT                 NaT  Business     Whitebridge   \n",
       "901                  NaT                 NaT  Business  Westpark Place   \n",
       "903                  NaT                 NaT  Business     Morrisville   \n",
       "904                  NaT                 NaT  Business            Cary   \n",
       "1015                 NaT                 NaT  Business            Cary   \n",
       "1019                 NaT                 NaT  Business     Morrisville   \n",
       "1020                 NaT                 NaT  Business            Cary   \n",
       "1029                 NaT                 NaT  Business            Cary   \n",
       "1039                 NaT                 NaT  Business     Morrisville   \n",
       "1040                 NaT                 NaT  Business            Cary   \n",
       "1046                 NaT                 NaT  Business            Cary   \n",
       "1047                 NaT                 NaT  Business     Morrisville   \n",
       "\n",
       "                STOP  MILES          PURPOSE  \n",
       "71              Cary    1.6   Meal/Entertain  \n",
       "185           Durham   10.4          Meeting  \n",
       "207      Morrisville    8.4          Meeting  \n",
       "309   Edgehill Farms    2.8  Errand/Supplies  \n",
       "394           Durham   10.4          Meeting  \n",
       "404             Cary    2.5   Meal/Entertain  \n",
       "405           Durham    9.9          Meeting  \n",
       "406             Cary    9.9          Meeting  \n",
       "411           Durham   10.4          Meeting  \n",
       "412             Cary    9.9          Meeting  \n",
       "413           Durham   10.4          Meeting  \n",
       "414             Cary    9.9          Meeting  \n",
       "415      Morrisville    8.7   Meal/Entertain  \n",
       "424           Durham   10.4          Meeting  \n",
       "425             Cary    9.9          Meeting  \n",
       "429           Durham   10.4          Meeting  \n",
       "430             Cary    9.9          Meeting  \n",
       "492             Cary    9.9          Meeting  \n",
       "500             Cary    9.9          Meeting  \n",
       "503           Durham   10.5          Meeting  \n",
       "504             Cary    9.9          Meeting  \n",
       "506             Cary    9.9          Meeting  \n",
       "508             Cary    3.1  Errand/Supplies  \n",
       "509           Durham    9.9          Meeting  \n",
       "510             Cary    9.9          Meeting  \n",
       "515             Cary    9.9          Meeting  \n",
       "520           Durham    9.9          Meeting  \n",
       "620      Morrisville    8.4          Meeting  \n",
       "635             Cary    2.5   Meal/Entertain  \n",
       "638      Whitebridge    2.7   Customer Visit  \n",
       "894      Whitebridge    1.8              NaN  \n",
       "900   Westpark Place    1.4              NaN  \n",
       "901      Whitebridge    1.8              NaN  \n",
       "903             Cary    3.1   Customer Visit  \n",
       "904      Morrisville    7.9   Temporary Site  \n",
       "1015     Morrisville    3.3   Meal/Entertain  \n",
       "1019            Cary    3.0   Customer Visit  \n",
       "1020     Morrisville    2.9   Meal/Entertain  \n",
       "1029            Cary    3.4  Errand/Supplies  \n",
       "1039            Cary    3.1   Customer Visit  \n",
       "1040     Morrisville    3.0   Meal/Entertain  \n",
       "1046     Morrisville    3.0   Meal/Entertain  \n",
       "1047            Cary    3.0   Customer Visit  "
      ]
     },
     "execution_count": 10,
     "metadata": {},
     "output_type": "execute_result"
    }
   ],
   "source": [
    "# Checking for duplicates\n",
    "ride_data[ride_data.duplicated()]"
   ]
  },
  {
   "cell_type": "code",
   "execution_count": 11,
   "id": "b407bf49",
   "metadata": {},
   "outputs": [],
   "source": [
    "# Dropping duplicated row\n",
    "ride_data.drop_duplicates(inplace=True)"
   ]
  },
  {
   "cell_type": "code",
   "execution_count": 12,
   "id": "ae1375f5",
   "metadata": {},
   "outputs": [
    {
     "data": {
      "text/plain": [
       "START_DATE    380\n",
       "END_DATE      379\n",
       "CATEGORY        1\n",
       "START           1\n",
       "STOP            1\n",
       "MILES           0\n",
       "PURPOSE       500\n",
       "dtype: int64"
      ]
     },
     "execution_count": 12,
     "metadata": {},
     "output_type": "execute_result"
    }
   ],
   "source": [
    "# Checking for nulls\n",
    "ride_data.isnull().sum()"
   ]
  },
  {
   "cell_type": "code",
   "execution_count": 13,
   "id": "fbda73bb",
   "metadata": {},
   "outputs": [],
   "source": [
    "# Filling unknown for purpose\n",
    "ride_data[\"PURPOSE\"] = ride_data[\"PURPOSE\"].fillna(\"Unknown\")\n",
    "ride_data.dropna(inplace = True)"
   ]
  },
  {
   "cell_type": "code",
   "execution_count": 14,
   "id": "f04712bb",
   "metadata": {},
   "outputs": [
    {
     "data": {
      "text/plain": [
       "START_DATE    0\n",
       "END_DATE      0\n",
       "CATEGORY      0\n",
       "START         0\n",
       "STOP          0\n",
       "MILES         0\n",
       "PURPOSE       0\n",
       "dtype: int64"
      ]
     },
     "execution_count": 14,
     "metadata": {},
     "output_type": "execute_result"
    }
   ],
   "source": [
    "ride_data.isnull().sum()"
   ]
  },
  {
   "cell_type": "markdown",
   "id": "f2199720",
   "metadata": {},
   "source": [
    "#### Dealing with features"
   ]
  },
  {
   "cell_type": "code",
   "execution_count": 15,
   "id": "50788bdd",
   "metadata": {},
   "outputs": [],
   "source": [
    "ride_data[\"YEAR\"] = ride_data['START_DATE'].dt.year\n",
    "ride_data[\"MONTH\"] = ride_data['START_DATE'].dt.month_name()\n",
    "ride_data[\"DAY\"] = ride_data['START_DATE'].dt.day_name()\n",
    "ride_data['START_HOUR'] = ride_data['START_DATE'].dt.hour\n",
    "ride_data[\"DURATION\"] = (ride_data['END_DATE'] - ride_data['START_DATE']) / pd.Timedelta(minutes=1)\n",
    "\n",
    "\n",
    "time_periods = [0,6,12,18,24]\n",
    "labels = ['Night' , 'Morning' , 'Afternoon' , 'Evening']\n",
    "ride_data['TimeOfDay'] = pd.cut(ride_data['START_DATE'].dt.hour , bins = time_periods , labels = labels , right = False)"
   ]
  },
  {
   "cell_type": "code",
   "execution_count": 16,
   "id": "308a6b01",
   "metadata": {},
   "outputs": [
    {
     "data": {
      "text/html": [
       "<div>\n",
       "<style scoped>\n",
       "    .dataframe tbody tr th:only-of-type {\n",
       "        vertical-align: middle;\n",
       "    }\n",
       "\n",
       "    .dataframe tbody tr th {\n",
       "        vertical-align: top;\n",
       "    }\n",
       "\n",
       "    .dataframe thead th {\n",
       "        text-align: right;\n",
       "    }\n",
       "</style>\n",
       "<table border=\"1\" class=\"dataframe\">\n",
       "  <thead>\n",
       "    <tr style=\"text-align: right;\">\n",
       "      <th></th>\n",
       "      <th>START_DATE</th>\n",
       "      <th>END_DATE</th>\n",
       "      <th>CATEGORY</th>\n",
       "      <th>START</th>\n",
       "      <th>STOP</th>\n",
       "      <th>MILES</th>\n",
       "      <th>PURPOSE</th>\n",
       "      <th>YEAR</th>\n",
       "      <th>MONTH</th>\n",
       "      <th>DAY</th>\n",
       "      <th>START_HOUR</th>\n",
       "      <th>DURATION</th>\n",
       "      <th>TimeOfDay</th>\n",
       "    </tr>\n",
       "  </thead>\n",
       "  <tbody>\n",
       "    <tr>\n",
       "      <th>23</th>\n",
       "      <td>2016-01-13 13:54:00</td>\n",
       "      <td>2016-01-13 14:07:00</td>\n",
       "      <td>Business</td>\n",
       "      <td>Downtown</td>\n",
       "      <td>Gulfton</td>\n",
       "      <td>11.2</td>\n",
       "      <td>Meeting</td>\n",
       "      <td>2016</td>\n",
       "      <td>January</td>\n",
       "      <td>Wednesday</td>\n",
       "      <td>13</td>\n",
       "      <td>13.0</td>\n",
       "      <td>Afternoon</td>\n",
       "    </tr>\n",
       "    <tr>\n",
       "      <th>24</th>\n",
       "      <td>2016-01-13 15:00:00</td>\n",
       "      <td>2016-01-13 15:28:00</td>\n",
       "      <td>Business</td>\n",
       "      <td>Gulfton</td>\n",
       "      <td>Downtown</td>\n",
       "      <td>11.8</td>\n",
       "      <td>Meeting</td>\n",
       "      <td>2016</td>\n",
       "      <td>January</td>\n",
       "      <td>Wednesday</td>\n",
       "      <td>15</td>\n",
       "      <td>28.0</td>\n",
       "      <td>Afternoon</td>\n",
       "    </tr>\n",
       "    <tr>\n",
       "      <th>25</th>\n",
       "      <td>2016-01-14 16:29:00</td>\n",
       "      <td>2016-01-14 17:05:00</td>\n",
       "      <td>Business</td>\n",
       "      <td>Houston</td>\n",
       "      <td>Houston</td>\n",
       "      <td>21.9</td>\n",
       "      <td>Customer Visit</td>\n",
       "      <td>2016</td>\n",
       "      <td>January</td>\n",
       "      <td>Thursday</td>\n",
       "      <td>16</td>\n",
       "      <td>36.0</td>\n",
       "      <td>Afternoon</td>\n",
       "    </tr>\n",
       "    <tr>\n",
       "      <th>26</th>\n",
       "      <td>2016-01-14 21:39:00</td>\n",
       "      <td>2016-01-14 21:45:00</td>\n",
       "      <td>Business</td>\n",
       "      <td>Eagan Park</td>\n",
       "      <td>Jamestown Court</td>\n",
       "      <td>3.9</td>\n",
       "      <td>Errand/Supplies</td>\n",
       "      <td>2016</td>\n",
       "      <td>January</td>\n",
       "      <td>Thursday</td>\n",
       "      <td>21</td>\n",
       "      <td>6.0</td>\n",
       "      <td>Evening</td>\n",
       "    </tr>\n",
       "    <tr>\n",
       "      <th>27</th>\n",
       "      <td>2016-01-15 00:41:00</td>\n",
       "      <td>2016-01-15 01:01:00</td>\n",
       "      <td>Business</td>\n",
       "      <td>Morrisville</td>\n",
       "      <td>Cary</td>\n",
       "      <td>8.0</td>\n",
       "      <td>Errand/Supplies</td>\n",
       "      <td>2016</td>\n",
       "      <td>January</td>\n",
       "      <td>Friday</td>\n",
       "      <td>0</td>\n",
       "      <td>20.0</td>\n",
       "      <td>Night</td>\n",
       "    </tr>\n",
       "  </tbody>\n",
       "</table>\n",
       "</div>"
      ],
      "text/plain": [
       "            START_DATE            END_DATE  CATEGORY        START  \\\n",
       "23 2016-01-13 13:54:00 2016-01-13 14:07:00  Business     Downtown   \n",
       "24 2016-01-13 15:00:00 2016-01-13 15:28:00  Business      Gulfton   \n",
       "25 2016-01-14 16:29:00 2016-01-14 17:05:00  Business      Houston   \n",
       "26 2016-01-14 21:39:00 2016-01-14 21:45:00  Business   Eagan Park   \n",
       "27 2016-01-15 00:41:00 2016-01-15 01:01:00  Business  Morrisville   \n",
       "\n",
       "               STOP  MILES          PURPOSE  YEAR    MONTH        DAY  \\\n",
       "23          Gulfton   11.2          Meeting  2016  January  Wednesday   \n",
       "24         Downtown   11.8          Meeting  2016  January  Wednesday   \n",
       "25          Houston   21.9   Customer Visit  2016  January   Thursday   \n",
       "26  Jamestown Court    3.9  Errand/Supplies  2016  January   Thursday   \n",
       "27             Cary    8.0  Errand/Supplies  2016  January     Friday   \n",
       "\n",
       "    START_HOUR  DURATION  TimeOfDay  \n",
       "23          13      13.0  Afternoon  \n",
       "24          15      28.0  Afternoon  \n",
       "25          16      36.0  Afternoon  \n",
       "26          21       6.0    Evening  \n",
       "27           0      20.0      Night  "
      ]
     },
     "execution_count": 16,
     "metadata": {},
     "output_type": "execute_result"
    }
   ],
   "source": [
    "ride_data.head()"
   ]
  },
  {
   "cell_type": "markdown",
   "id": "1cfe5f83",
   "metadata": {},
   "source": [
    "### Analysis based on 'Purpose'"
   ]
  },
  {
   "cell_type": "code",
   "execution_count": 17,
   "id": "acf36535",
   "metadata": {},
   "outputs": [
    {
     "name": "stdout",
     "output_type": "stream",
     "text": [
      "Purpose Distribution:\n",
      "Unknown            342\n",
      "Meeting            105\n",
      "Meal/Entertain      96\n",
      "Errand/Supplies     81\n",
      "Customer Visit      55\n",
      "Temporary Site      36\n",
      "Between Offices      9\n",
      "Moving               4\n",
      "Airport/Travel       3\n",
      "Charity ($)          1\n",
      "Commute              1\n",
      "Name: PURPOSE, dtype: int64\n"
     ]
    }
   ],
   "source": [
    "purpose_distribution = ride_data['PURPOSE'].value_counts()\n",
    "print(\"Purpose Distribution:\")\n",
    "print(purpose_distribution)"
   ]
  },
  {
   "cell_type": "markdown",
   "id": "5bb2305a",
   "metadata": {},
   "source": [
    "Observation : \n",
    "\n",
    "- \"Unknown\" is the most common purpose, indicates that most of the number of rides are not specified or categorized.\n",
    "\n",
    "- The top identified purposes include \"Meeting,\" \"Meal/Entertain,\" \"Errand/Supplies,\" and \"Customer Visit.\"\n",
    "\n",
    "- \"Commute\" and \"Charity\" purposes have only one recorded trip each. (We will dop these columns as they would not contribute much to the analysis)"
   ]
  },
  {
   "cell_type": "code",
   "execution_count": 18,
   "id": "033c9577",
   "metadata": {},
   "outputs": [
    {
     "data": {
      "text/plain": [
       "array(['Meeting', 'Customer Visit', 'Errand/Supplies', 'Meal/Entertain',\n",
       "       'Unknown', 'Temporary Site', 'Between Offices', 'Moving',\n",
       "       'Airport/Travel'], dtype=object)"
      ]
     },
     "execution_count": 18,
     "metadata": {},
     "output_type": "execute_result"
    }
   ],
   "source": [
    "# Dropping 'commute' and 'Charity'\n",
    "purposes_to_drop = ['Commute' , 'Charity ($)']\n",
    "\n",
    "# Dropping rows with specified purposes\n",
    "ride_data = ride_data[~ride_data['PURPOSE'].isin(purposes_to_drop)]\n",
    "\n",
    "ride_data['PURPOSE'].unique()"
   ]
  },
  {
   "cell_type": "code",
   "execution_count": 19,
   "id": "6fa5b384",
   "metadata": {},
   "outputs": [
    {
     "name": "stdout",
     "output_type": "stream",
     "text": [
      "Descriptive Statistics on Miles Covered grouped by Purpose:\n",
      "                 count       mean        std  min    25%   50%     75%    max\n",
      "PURPOSE                                                                      \n",
      "Airport/Travel     3.0   5.500000   1.852026  4.1  4.450   4.8   6.200    7.6\n",
      "Between Offices    9.0  10.955556  11.356838  1.9  4.800   6.1  12.400   39.2\n",
      "Customer Visit    55.0  22.401818  47.994292  0.8  5.350   7.7  13.550  310.3\n",
      "Errand/Supplies   81.0   3.880247   3.108312  0.5  1.700   3.1   4.700   18.5\n",
      "Meal/Entertain    96.0   6.221875   5.979213  0.6  2.500   4.4   7.775   36.5\n",
      "Meeting          105.0  16.398095  27.094603  0.7  7.500  10.4  14.000  201.0\n",
      "Moving             4.0   4.550000   1.181807  3.3  3.900   4.4   5.050    6.1\n",
      "Temporary Site    36.0  11.530556   8.739657  1.8  5.975   8.2  13.950   48.2\n",
      "Unknown          342.0  10.999123  22.294058  0.7  2.600   5.5  12.100  195.9\n"
     ]
    }
   ],
   "source": [
    "descriptive_stats_by_purpose = ride_data.groupby('PURPOSE')['MILES'].describe()\n",
    "print(\"Descriptive Statistics on Miles Covered grouped by Purpose:\")\n",
    "print(descriptive_stats_by_purpose)"
   ]
  },
  {
   "cell_type": "markdown",
   "id": "9721e37e",
   "metadata": {},
   "source": [
    "Observation\n",
    "\n",
    "- \"Customer Visit\" , \"Meeting\" , \"Temperory Site\" are the top identified purposes with regard to average duration.\n",
    "\n",
    "- \"Errand/Supplies\" and \"Moving\" have relatively lower average mileage , indicating shorter trips.\n",
    "\n",
    "- \"Customer Visit\" and \"Meeting\" purposes have the highest standard deviation , suggesting greater variability in trip distances."
   ]
  },
  {
   "cell_type": "code",
   "execution_count": 20,
   "id": "71eca34c",
   "metadata": {},
   "outputs": [
    {
     "name": "stdout",
     "output_type": "stream",
     "text": [
      "Number of Trips by Purpose and Time of Day : \n",
      "TimeOfDay        Night  Morning  Afternoon  Evening\n",
      "PURPOSE                                            \n",
      "Airport/Travel       0        1          2        0\n",
      "Between Offices      1        2          4        2\n",
      "Customer Visit       2       11         24       18\n",
      "Errand/Supplies      5       10         44       22\n",
      "Meal/Entertain       2       22         33       39\n",
      "Meeting              2       26         51       26\n",
      "Moving               0        4          0        0\n",
      "Temporary Site       0        9         19        8\n",
      "Unknown              8       80        169       85\n",
      "\n",
      "Average Trip Duration by Purpose and Time of Day : \n",
      "TimeOfDay        Night    Morning  Afternoon    Evening\n",
      "PURPOSE                                                \n",
      "Airport/Travel     NaN  29.000000  24.500000        NaN\n",
      "Between Offices   20.0  59.000000  11.500000  22.000000\n",
      "Customer Visit    34.5  25.272727  50.666667  19.888889\n",
      "Errand/Supplies   11.2  17.500000  13.386364  11.727273\n",
      "Meal/Entertain    15.5  19.454545  19.212121  14.435897\n",
      "Meeting           11.5  23.538462  30.274510  48.923077\n",
      "Moving             NaN  15.000000        NaN        NaN\n",
      "Temporary Site     NaN  23.333333  28.473684  35.000000\n",
      "Unknown           12.0  20.175000  29.579882  26.541176\n",
      "\n",
      "Average Distance Traveled by Purpose and Time of Day:\n",
      "TimeOfDay         Night    Morning  Afternoon    Evening\n",
      "PURPOSE                                                 \n",
      "Airport/Travel      NaN   7.600000   4.450000        NaN\n",
      "Between Offices  12.400  25.500000   4.425000   8.750000\n",
      "Customer Visit   25.950  11.963636  37.125000   8.755556\n",
      "Errand/Supplies   3.840   4.210000   3.784091   3.931818\n",
      "Meal/Entertain    7.500   7.231818   6.481818   5.366667\n",
      "Meeting           4.200   9.930769  13.594118  29.303846\n",
      "Moving              NaN   4.550000        NaN        NaN\n",
      "Temporary Site      NaN   9.933333  10.710526  15.275000\n",
      "Unknown           4.775   7.287500  13.173373  10.755294\n"
     ]
    }
   ],
   "source": [
    "# Grouping the data by purpose and time of day \n",
    "grouped_data = ride_data.groupby(['PURPOSE','TimeOfDay'])\n",
    "\n",
    "# Calculating the number of trips for each purpose and time of day\n",
    "trip_counts = grouped_data['PURPOSE'].count()\n",
    "\n",
    "# Calculating the average trip duration for each purpose and time of day\n",
    "avg_duration = grouped_data['DURATION'].mean()\n",
    "\n",
    "# Calculating the average distance travelled for each purpose and time of day\n",
    "avg_distance = grouped_data['MILES'].mean()\n",
    "\n",
    "# Printing the results\n",
    "print(\"Number of Trips by Purpose and Time of Day : \")\n",
    "print(trip_counts.unstack())\n",
    "\n",
    "print(\"\\nAverage Trip Duration by Purpose and Time of Day : \")\n",
    "print(avg_duration.unstack())\n",
    "\n",
    "print(\"\\nAverage Distance Traveled by Purpose and Time of Day:\")\n",
    "print(avg_distance.unstack())"
   ]
  },
  {
   "cell_type": "markdown",
   "id": "a4b07b39",
   "metadata": {},
   "source": [
    "Observation :\n",
    "\n",
    "\"Meeting\" and \"Meal/Entertain\" purposes have higher trip counts during the \"Afternoon\" and \"Evening\" time periods.\n",
    "\n",
    "\"Meal/Entertain\" and \"Errand/Supplies\" purposes have relatively higher trip counts during the \"Morning\" and \"Afternoon\" time periods.\n",
    "\n",
    "The average trip duration varies across purposes and time of day. \"Customer Visit\" and \"Meeting\" purposes have longer average durations, particularly during the \"Afternoon\" and \"Evening\" time periods."
   ]
  },
  {
   "cell_type": "code",
   "execution_count": 21,
   "id": "2e3c6aef",
   "metadata": {},
   "outputs": [
    {
     "name": "stdout",
     "output_type": "stream",
     "text": [
      "Number of Trips by Purpose and Day of the Week:\n",
      "DAY              Monday  Tuesday  Wednesday  Thursday  Friday  Saturday  \\\n",
      "PURPOSE                                                                   \n",
      "Airport/Travel      0.0      0.0        0.0       1.0     0.0       1.0   \n",
      "Between Offices     0.0      0.0        4.0       1.0     0.0       2.0   \n",
      "Customer Visit     10.0      8.0       11.0      10.0     6.0       6.0   \n",
      "Errand/Supplies     9.0     16.0       10.0      10.0    13.0      14.0   \n",
      "Meal/Entertain     15.0     16.0       11.0      11.0    13.0      15.0   \n",
      "Meeting             6.0     11.0       13.0      13.0    33.0      15.0   \n",
      "Moving              4.0      0.0        0.0       0.0     0.0       0.0   \n",
      "Temporary Site      3.0      8.0        5.0       9.0     3.0       4.0   \n",
      "Unknown            65.0     55.0       43.0      38.0    51.0      41.0   \n",
      "\n",
      "DAY              Sunday  Total  \n",
      "PURPOSE                         \n",
      "Airport/Travel      1.0    3.0  \n",
      "Between Offices     2.0    9.0  \n",
      "Customer Visit      4.0   55.0  \n",
      "Errand/Supplies     9.0   81.0  \n",
      "Meal/Entertain     15.0   96.0  \n",
      "Meeting            14.0  105.0  \n",
      "Moving              0.0    4.0  \n",
      "Temporary Site      4.0   36.0  \n",
      "Unknown            49.0  342.0  \n",
      "\n",
      "Average Trip Duration by Purpose and Day of the Week:\n",
      "DAY                 Monday    Tuesday  Wednesday   Thursday     Friday  \\\n",
      "PURPOSE                                                                  \n",
      "Airport/Travel    0.000000   0.000000   0.000000  15.000000   0.000000   \n",
      "Between Offices   0.000000   0.000000  12.500000  16.000000   0.000000   \n",
      "Customer Visit   23.800000  28.500000  23.545455  32.300000  95.333333   \n",
      "Errand/Supplies  13.444444  10.562500  15.700000  11.300000  14.000000   \n",
      "Meal/Entertain   15.600000  16.750000  18.363636  20.909091  17.769231   \n",
      "Meeting          23.500000  25.636364  34.692308  33.461538  40.969697   \n",
      "Moving           15.000000   0.000000   0.000000   0.000000   0.000000   \n",
      "Temporary Site   38.666667  17.250000  31.400000  27.888889  22.666667   \n",
      "Unknown          22.569231  30.054545  21.581395  32.026316  22.333333   \n",
      "\n",
      "DAY               Saturday     Sunday       Total  \n",
      "PURPOSE                                            \n",
      "Airport/Travel   34.000000  29.000000   78.000000  \n",
      "Between Offices  44.000000  37.000000  109.500000  \n",
      "Customer Visit   35.000000  22.750000  261.228788  \n",
      "Errand/Supplies  10.928571  20.333333   96.268849  \n",
      "Meal/Entertain   19.666667  13.066667  122.125291  \n",
      "Meeting          33.200000  20.857143  212.317050  \n",
      "Moving            0.000000   0.000000   15.000000  \n",
      "Temporary Site   44.750000  30.500000  213.122222  \n",
      "Unknown          32.048780  25.448980  186.062581  \n",
      "\n",
      "Average Distance Traveled by Purpose and Day of the Week:\n",
      "DAY                 Monday    Tuesday  Wednesday   Thursday     Friday  \\\n",
      "PURPOSE                                                                  \n",
      "Airport/Travel    0.000000   0.000000   0.000000   4.100000   0.000000   \n",
      "Between Offices   0.000000   0.000000   6.000000   6.100000   0.000000   \n",
      "Customer Visit   14.320000  11.675000  10.827273  24.160000  80.516667   \n",
      "Errand/Supplies   4.255556   3.212500   3.690000   3.440000   4.207692   \n",
      "Meal/Entertain    5.393333   5.856250   6.372727   7.145455   5.353846   \n",
      "Meeting           8.116667   9.618182  17.246154  15.438462  25.727273   \n",
      "Moving            4.550000   0.000000   0.000000   0.000000   0.000000   \n",
      "Temporary Site   12.500000   6.887500  10.560000  14.022222   9.200000   \n",
      "Unknown           9.047692  10.340000   7.825581  15.276316   6.958824   \n",
      "\n",
      "DAY               Saturday     Sunday       Total  \n",
      "PURPOSE                                            \n",
      "Airport/Travel    4.800000   7.600000   16.500000  \n",
      "Between Offices  12.550000  21.700000   46.350000  \n",
      "Customer Visit   21.083333   6.300000  168.882273  \n",
      "Errand/Supplies   3.592857   5.366667   27.765272  \n",
      "Meal/Entertain    8.653333   4.973333   43.748278  \n",
      "Meeting          11.860000   8.250000   96.256737  \n",
      "Moving            0.000000   0.000000    4.550000  \n",
      "Temporary Site   15.950000  13.025000   82.144722  \n",
      "Unknown          16.007317  13.810204   79.265934  \n"
     ]
    }
   ],
   "source": [
    "# Grouping the data by purpose and day of the week\n",
    "grouped_data = ride_data.groupby(['PURPOSE', 'DAY'])\n",
    "\n",
    "# Calculating the number of trips for each purpose and day of the week\n",
    "trip_counts = grouped_data['PURPOSE'].count().unstack().fillna(0)\n",
    "\n",
    "# Calculating the average trip duration for each purpose and day of the week\n",
    "avg_duration = grouped_data['DURATION'].mean().unstack().fillna(0)\n",
    "\n",
    "# Calculating the average distance traveled for each purpose and day of the week\n",
    "avg_distance = grouped_data['MILES'].mean().unstack().fillna(0)\n",
    "\n",
    "# Adding row totals\n",
    "trip_counts['Total'] = trip_counts.sum(axis=1)\n",
    "avg_duration['Total'] = avg_duration.sum(axis=1)\n",
    "avg_distance['Total'] = avg_distance.sum(axis=1)\n",
    "\n",
    "# Reordering days of the week starting with Monday\n",
    "trip_counts = trip_counts[['Monday', 'Tuesday', 'Wednesday', 'Thursday', 'Friday', 'Saturday', 'Sunday', 'Total']]\n",
    "avg_duration = avg_duration[['Monday', 'Tuesday', 'Wednesday', 'Thursday', 'Friday', 'Saturday', 'Sunday', 'Total']]\n",
    "avg_distance = avg_distance[['Monday', 'Tuesday', 'Wednesday', 'Thursday', 'Friday', 'Saturday', 'Sunday', 'Total']]\n",
    "\n",
    "# Printing the results\n",
    "print(\"Number of Trips by Purpose and Day of the Week:\")\n",
    "print(trip_counts)\n",
    "\n",
    "print(\"\\nAverage Trip Duration by Purpose and Day of the Week:\")\n",
    "print(avg_duration)\n",
    "\n",
    "print(\"\\nAverage Distance Traveled by Purpose and Day of the Week:\")\n",
    "print(avg_distance)"
   ]
  },
  {
   "cell_type": "code",
   "execution_count": 22,
   "id": "f84670ea",
   "metadata": {},
   "outputs": [
    {
     "data": {
      "image/png": "[encoded data removed]",
      "text/plain": [
       "<Figure size 576x432 with 1 Axes>"
      ]
     },
     "metadata": {
      "needs_background": "light"
     },
     "output_type": "display_data"
    }
   ],
   "source": [
    "plt.figure(figsize=(8,6))\n",
    "sns.countplot(x='PURPOSE' , data=ride_data , color='darkblue')\n",
    "plt.title('Ride counts by Purpose')\n",
    "plt.xlabel('Purpose')\n",
    "plt.ylabel('Number of Rides')\n",
    "plt.xticks(rotation = 90)\n",
    "plt.show()"
   ]
  },
  {
   "cell_type": "markdown",
   "id": "b9c5d7dd",
   "metadata": {},
   "source": [
    "Unknown Proceses : The high count of \"Unknown\" purposes suggests a potential area for improvement in data collection or recording. \n",
    "\n",
    "Common Purposes : \"Meeting\" , \"Meal/Entertain\" , and \"Errand/Supplies\" are common ride purposes .\n",
    "\n",
    "Less Frequent Purposes: Purposes like \"Moving,\" \"Airport/Travel,\" \"Commute,\" and \"Charity\" are less common, but still present in the dataset"
   ]
  },
  {
   "cell_type": "code",
   "execution_count": 23,
   "id": "453eb548",
   "metadata": {},
   "outputs": [
    {
     "data": {
      "image/png": "[encoded data removed]",
      "text/plain": [
       "<Figure size 720x720 with 1 Axes>"
      ]
     },
     "metadata": {
      "needs_background": "light"
     },
     "output_type": "display_data"
    }
   ],
   "source": [
    "plt.figure(figsize=(10, 10))\n",
    "sns.boxplot(x='PURPOSE', y='DURATION', data=ride_data )\n",
    "plt.title('Boxplot of Ride Duration by Purpose')\n",
    "plt.xlabel('Purpose')\n",
    "plt.ylabel('Ride Duration (minutes)')\n",
    "plt.xticks(rotation = 90)\n",
    "plt.show()"
   ]
  },
  {
   "cell_type": "markdown",
   "id": "f248a510",
   "metadata": {},
   "source": [
    "#### Analysis based on 'Category'"
   ]
  },
  {
   "cell_type": "code",
   "execution_count": 24,
   "id": "00ee7c41",
   "metadata": {},
   "outputs": [
    {
     "name": "stdout",
     "output_type": "stream",
     "text": [
      "Category Distribution: \n",
      "Business    670\n",
      "Personal     61\n",
      "Name: CATEGORY, dtype: int64\n"
     ]
    }
   ],
   "source": [
    "category_distribution = ride_data['CATEGORY'].value_counts()\n",
    "print(\"Category Distribution: \")\n",
    "print(category_distribution)"
   ]
  },
  {
   "cell_type": "code",
   "execution_count": 25,
   "id": "07b255b2",
   "metadata": {},
   "outputs": [
    {
     "name": "stdout",
     "output_type": "stream",
     "text": [
      "Descriptive Statistics on Miles Covered grouped by Category : \n",
      "          count       mean        std  min    25%  50%     75%    max\n",
      "CATEGORY                                                             \n",
      "Business  670.0  11.496866  24.137109  0.5  3.025  6.1  10.975  310.3\n",
      "Personal   61.0   7.749180   8.476352  1.0  2.000  4.4  10.400   41.9\n"
     ]
    }
   ],
   "source": [
    "descriptive_stats_by_category = ride_data.groupby('CATEGORY')['MILES'].describe()\n",
    "print(\"Descriptive Statistics on Miles Covered grouped by Category : \")\n",
    "print(descriptive_stats_by_category)"
   ]
  },
  {
   "cell_type": "code",
   "execution_count": 26,
   "id": "2424fa4a",
   "metadata": {},
   "outputs": [
    {
     "name": "stdout",
     "output_type": "stream",
     "text": [
      "Descriptive statistics on trip duration grouped by category : \n",
      "          count       mean        std  min   25%   50%   75%    max\n",
      "CATEGORY                                                           \n",
      "Business  670.0  25.767164  31.271406  0.0  10.0  18.0  29.0  336.0\n",
      "Personal   61.0  19.737705  16.129581  4.0   8.0  15.0  22.0   88.0\n"
     ]
    }
   ],
   "source": [
    "descriptive_stats_by_category = ride_data.groupby('CATEGORY')['DURATION'].describe()\n",
    "\n",
    "print(\"Descriptive statistics on trip duration grouped by category : \")\n",
    "print(descriptive_stats_by_category)"
   ]
  },
  {
   "cell_type": "code",
   "execution_count": 27,
   "id": "00be3695",
   "metadata": {},
   "outputs": [
    {
     "name": "stderr",
     "output_type": "stream",
     "text": [
      "C:\\Users\\91932\\AppData\\Local\\Temp\\ipykernel_15296\\115776778.py:3: FutureWarning: \n",
      "\n",
      "Passing `palette` without assigning `hue` is deprecated and will be removed in v0.14.0. Assign the `x` variable to `hue` and set `legend=False` for the same effect.\n",
      "\n",
      "  sns.countplot(x='CATEGORY' , data=ride_data , color='blue' , palette=custom_palette)\n"
     ]
    },
    {
     "data": {
      "image/png": "[encoded data removed]",
      "text/plain": [
       "<Figure size 576x432 with 1 Axes>"
      ]
     },
     "metadata": {
      "needs_background": "light"
     },
     "output_type": "display_data"
    }
   ],
   "source": [
    "plt.figure(figsize=(8,6))\n",
    "custom_palette = {\"Business\": \"darkblue\", \"Personal\": \"yellow\"}\n",
    "sns.countplot(x='CATEGORY' , data=ride_data , color='blue' , palette=custom_palette)\n",
    "plt.title('Ride counts by category')\n",
    "plt.xlabel('Category')\n",
    "plt.ylabel('Number of Rides')\n",
    "plt.show()"
   ]
  },
  {
   "cell_type": "code",
   "execution_count": 28,
   "id": "cc32949c",
   "metadata": {},
   "outputs": [
    {
     "data": {
      "image/png": "[encoded data removed]",
      "text/plain": [
       "<Figure size 576x432 with 1 Axes>"
      ]
     },
     "metadata": {
      "needs_background": "light"
     },
     "output_type": "display_data"
    }
   ],
   "source": [
    "plt.figure(figsize=(8,6))\n",
    "sns.boxplot(x='CATEGORY' , y='DURATION' , data = ride_data , color = 'yellow')\n",
    "plt.title('Boxplot of Ride Duration by Category')\n",
    "plt.xlabel('Category')\n",
    "plt.ylabel('Ride Duration (minutes)')\n",
    "plt.show()"
   ]
  },
  {
   "cell_type": "markdown",
   "id": "fb09b9ae",
   "metadata": {},
   "source": [
    "#### Temporal Analysis\n"
   ]
  },
  {
   "cell_type": "code",
   "execution_count": 29,
   "id": "13e6f0a1",
   "metadata": {},
   "outputs": [
    {
     "data": {
      "image/png": "[encoded data removed]",
      "text/plain": [
       "<Figure size 864x432 with 1 Axes>"
      ]
     },
     "metadata": {
      "needs_background": "light"
     },
     "output_type": "display_data"
    }
   ],
   "source": [
    "plt.figure(figsize=(12,6))\n",
    "sns.countplot(x='START_HOUR' , data = ride_data )\n",
    "plt.title('Ride count by hour of the day')\n",
    "plt.xlabel('Hour of the day')\n",
    "plt.ylabel('Ride Count')\n",
    "plt.show()"
   ]
  },
  {
   "cell_type": "code",
   "execution_count": 30,
   "id": "0319285e",
   "metadata": {},
   "outputs": [
    {
     "name": "stderr",
     "output_type": "stream",
     "text": [
      "C:\\Users\\91932\\AppData\\Local\\Temp\\ipykernel_15296\\2167054593.py:3: FutureWarning: \n",
      "\n",
      "Passing `palette` without assigning `hue` is deprecated and will be removed in v0.14.0. Assign the `x` variable to `hue` and set `legend=False` for the same effect.\n",
      "\n",
      "  sns.countplot(x=ride_data[\"TimeOfDay\"] , palette = custom_palette)\n"
     ]
    },
    {
     "data": {
      "text/plain": [
       "Text(0, 0.5, 'Ride Count')"
      ]
     },
     "execution_count": 30,
     "metadata": {},
     "output_type": "execute_result"
    },
    {
     "data": {
      "image/png": "[encoded data removed]",
      "text/plain": [
       "<Figure size 720x432 with 1 Axes>"
      ]
     },
     "metadata": {
      "needs_background": "light"
     },
     "output_type": "display_data"
    }
   ],
   "source": [
    "plt.figure(figsize=(10,6))\n",
    "custom_palette = {\"Night\": \"darkblue\", \"Morning\": \"yellow\" , \"Afternoon\":\"Orange\", \"Evening\":\"Green\"}\n",
    "sns.countplot(x=ride_data[\"TimeOfDay\"] , palette = custom_palette)\n",
    "plt.title('Ride Count by Time of Day')\n",
    "plt.xlabel('Time of Day')\n",
    "plt.ylabel('Ride Count')"
   ]
  },
  {
   "cell_type": "code",
   "execution_count": 31,
   "id": "7d3e4ee7",
   "metadata": {},
   "outputs": [
    {
     "data": {
      "image/png": "[encoded data removed]",
      "text/plain": [
       "<Figure size 864x432 with 1 Axes>"
      ]
     },
     "metadata": {
      "needs_background": "light"
     },
     "output_type": "display_data"
    }
   ],
   "source": [
    "plt.figure(figsize=(12,6))\n",
    "sns.countplot(x = 'DAY' , data = ride_data)\n",
    "plt.title('Ride Count by Hour of the Day')\n",
    "plt.xlabel('Day of the Day')\n",
    "plt.ylabel('Ride Count')\n",
    "plt.show()"
   ]
  },
  {
   "cell_type": "code",
   "execution_count": 32,
   "id": "42536a4d",
   "metadata": {},
   "outputs": [
    {
     "data": {
      "image/png": "[encoded data removed]",
      "text/plain": [
       "<Figure size 720x432 with 1 Axes>"
      ]
     },
     "metadata": {
      "needs_background": "light"
     },
     "output_type": "display_data"
    }
   ],
   "source": [
    "plt.figure(figsize=(10, 6))\n",
    "sns.countplot(x='MONTH', data=ride_data)\n",
    "plt.title('Ride Count by Month')\n",
    "plt.xlabel('Month')\n",
    "plt.ylabel('Ride Count')\n",
    "plt.show()"
   ]
  },
  {
   "cell_type": "code",
   "execution_count": 33,
   "id": "0f29bf96",
   "metadata": {},
   "outputs": [
    {
     "data": {
      "image/png": "[encoded data removed]",
      "text/plain": [
       "<Figure size 864x432 with 1 Axes>"
      ]
     },
     "metadata": {
      "needs_background": "light"
     },
     "output_type": "display_data"
    }
   ],
   "source": [
    "plt.figure(figsize=(12, 6))\n",
    "sns.boxplot(x='START_HOUR', y='DURATION', data=ride_data)\n",
    "plt.title('Ride Duration by Hour of the Day')\n",
    "plt.xlabel('Hour of the Day')\n",
    "plt.ylabel('Ride Duration (minutes)')\n",
    "plt.show()"
   ]
  },
  {
   "cell_type": "code",
   "execution_count": 34,
   "id": "e5f49f89",
   "metadata": {},
   "outputs": [
    {
     "data": {
      "image/png": "[encoded data removed]",
      "text/plain": [
       "<Figure size 864x432 with 1 Axes>"
      ]
     },
     "metadata": {
      "needs_background": "light"
     },
     "output_type": "display_data"
    }
   ],
   "source": [
    "plt.figure(figsize=(12, 6))\n",
    "sns.boxplot(x='DAY', y='MILES', data=ride_data)\n",
    "plt.title('Distance Covered by Day of the Week')\n",
    "plt.xlabel('Day of the Week')\n",
    "plt.ylabel('Distance Covered (miles)')\n",
    "plt.show()"
   ]
  },
  {
   "cell_type": "code",
   "execution_count": 35,
   "id": "ed0486ae",
   "metadata": {},
   "outputs": [
    {
     "data": {
      "image/png": "[encoded data removed]",
      "text/plain": [
       "<Figure size 864x432 with 1 Axes>"
      ]
     },
     "metadata": {
      "needs_background": "light"
     },
     "output_type": "display_data"
    }
   ],
   "source": [
    "plt.figure(figsize=(12, 6))\n",
    "sns.lineplot(x='MONTH', y='DURATION', data=ride_data , color = 'darkblue')\n",
    "plt.title('Seasonal Variation in Ride Duration')\n",
    "plt.xlabel('Month')\n",
    "plt.ylabel('Ride Duration (minutes)')\n",
    "plt.show()"
   ]
  },
  {
   "cell_type": "code",
   "execution_count": 36,
   "id": "a4770a53",
   "metadata": {},
   "outputs": [
    {
     "data": {
      "image/png": "[encoded data removed]",
      "text/plain": [
       "<Figure size 1008x576 with 2 Axes>"
      ]
     },
     "metadata": {
      "needs_background": "light"
     },
     "output_type": "display_data"
    }
   ],
   "source": [
    "heatmap_data = ride_data.groupby(['DAY' , 'START_HOUR']).size().unstack()\n",
    "plt.figure(figsize = (14,8))\n",
    "sns.heatmap(heatmap_data , cmap = 'seismic' , annot = True , fmt='g' , cbar_kws={'label':'Ride Count'})\n",
    "plt.title('Hourly Ride Count by Day of the Week')\n",
    "plt.xlabel('Hour of the Day')\n",
    "plt.ylabel('Day of the Week')\n",
    "plt.show()"
   ]
  },
  {
   "cell_type": "markdown",
   "id": "3569ad28",
   "metadata": {},
   "source": [
    "#### Identifying Outliers"
   ]
  },
  {
   "cell_type": "code",
   "execution_count": 37,
   "id": "d77ffcfb",
   "metadata": {},
   "outputs": [
    {
     "data": {
      "text/plain": [
       "Text(0.5, 1.0, 'Outliers in Duration')"
      ]
     },
     "execution_count": 37,
     "metadata": {},
     "output_type": "execute_result"
    },
    {
     "data": {
      "image/png": "[encoded data removed]",
      "text/plain": [
       "<Figure size 720x432 with 1 Axes>"
      ]
     },
     "metadata": {
      "needs_background": "light"
     },
     "output_type": "display_data"
    }
   ],
   "source": [
    "plt.figure(figsize = (10,6))\n",
    "sns.boxplot(x=ride_data[\"DURATION\"] , data = ride_data)\n",
    "plt.title(\"Outliers in Duration\")"
   ]
  },
  {
   "cell_type": "code",
   "execution_count": 38,
   "id": "88b9bacd",
   "metadata": {},
   "outputs": [
    {
     "data": {
      "text/plain": [
       "Text(0.5, 1.0, 'Outliers in Miles')"
      ]
     },
     "execution_count": 38,
     "metadata": {},
     "output_type": "execute_result"
    },
    {
     "data": {
      "image/png": "[encoded data removed]",
      "text/plain": [
       "<Figure size 720x432 with 1 Axes>"
      ]
     },
     "metadata": {
      "needs_background": "light"
     },
     "output_type": "display_data"
    }
   ],
   "source": [
    "plt.figure(figsize=(10, 6))\n",
    "sns.boxplot(x=ride_data[\"MILES\"], data = ride_data)\n",
    "plt.title(\"Outliers in Miles\")"
   ]
  },
  {
   "cell_type": "markdown",
   "id": "1a7c3b2c",
   "metadata": {},
   "source": [
    "#### Correlation Analysis"
   ]
  },
  {
   "cell_type": "code",
   "execution_count": 39,
   "id": "4c166586",
   "metadata": {},
   "outputs": [
    {
     "name": "stdout",
     "output_type": "stream",
     "text": [
      "Correlation Matrix:\n",
      "             MILES  DURATION\n",
      "MILES     1.000000  0.862063\n",
      "DURATION  0.862063  1.000000\n"
     ]
    }
   ],
   "source": [
    "correlation_matrix = ride_data[['MILES' , 'DURATION']].corr()\n",
    "print(\"Correlation Matrix:\")\n",
    "print(correlation_matrix)"
   ]
  },
  {
   "cell_type": "code",
   "execution_count": 40,
   "id": "e30f2980",
   "metadata": {},
   "outputs": [
    {
     "data": {
      "image/png": "[encoded data removed]",
      "text/plain": [
       "<Figure size 576x432 with 2 Axes>"
      ]
     },
     "metadata": {
      "needs_background": "light"
     },
     "output_type": "display_data"
    }
   ],
   "source": [
    "plt.figure(figsize=(8,6))\n",
    "sns.heatmap(correlation_matrix , annot = True , cmap = 'viridis' , fmt = '.2f' , linewidths = .5)\n",
    "plt.title('Correlation Heatmap')\n",
    "plt.show()"
   ]
  },
  {
   "cell_type": "markdown",
   "id": "3c082ca8",
   "metadata": {},
   "source": [
    "#### Distribution Analysis"
   ]
  },
  {
   "cell_type": "code",
   "execution_count": 41,
   "id": "6f1719e9",
   "metadata": {},
   "outputs": [
    {
     "data": {
      "image/png": "[encoded data removed]",
      "text/plain": [
       "<Figure size 720x432 with 1 Axes>"
      ]
     },
     "metadata": {
      "needs_background": "light"
     },
     "output_type": "display_data"
    }
   ],
   "source": [
    "plt.figure(figsize = (10,6))\n",
    "plt.hist(ride_data['DURATION'] , bins = 20 , color = 'purple' , edgecolor = 'black')\n",
    "plt.title('Distribution of Ride Durations')\n",
    "plt.xlabel('Ride Duration (minutes)')\n",
    "plt.ylabel('Frequency')\n",
    "plt.show()"
   ]
  },
  {
   "cell_type": "code",
   "execution_count": 42,
   "id": "558adbe6",
   "metadata": {},
   "outputs": [
    {
     "data": {
      "image/png": "[encoded data removed]",
      "text/plain": [
       "<Figure size 720x432 with 1 Axes>"
      ]
     },
     "metadata": {
      "needs_background": "light"
     },
     "output_type": "display_data"
    }
   ],
   "source": [
    "plt.figure(figsize=(10, 6))\n",
    "plt.hist(ride_data['MILES'], bins=20, color='lightcoral', edgecolor='black')\n",
    "plt.title('Distribution of Distances Covered')\n",
    "plt.xlabel('Distance Covered (miles)')\n",
    "plt.ylabel('Frequency')\n",
    "plt.show()"
   ]
  },
  {
   "cell_type": "code",
   "execution_count": 43,
   "id": "7dc08934",
   "metadata": {},
   "outputs": [
    {
     "data": {
      "image/png": "[encoded data removed]",
      "text/plain": [
       "<Figure size 720x432 with 1 Axes>"
      ]
     },
     "metadata": {
      "needs_background": "light"
     },
     "output_type": "display_data"
    }
   ],
   "source": [
    "plt.figure(figsize=(10, 6))\n",
    "plt.scatter(ride_data['DURATION'], ride_data['MILES'], alpha=0.6, color='orange')\n",
    "plt.title('Scatter Plot of Ride Durations vs. Distances')\n",
    "plt.xlabel('Ride Duration (minutes)')\n",
    "plt.ylabel('Distance Covered (miles)')\n",
    "plt.show()"
   ]
  },
  {
   "cell_type": "code",
   "execution_count": 44,
   "id": "b885386d",
   "metadata": {},
   "outputs": [
    {
     "data": {
      "text/html": [
       "<div>\n",
       "<style scoped>\n",
       "    .dataframe tbody tr th:only-of-type {\n",
       "        vertical-align: middle;\n",
       "    }\n",
       "\n",
       "    .dataframe tbody tr th {\n",
       "        vertical-align: top;\n",
       "    }\n",
       "\n",
       "    .dataframe thead th {\n",
       "        text-align: right;\n",
       "    }\n",
       "</style>\n",
       "<table border=\"1\" class=\"dataframe\">\n",
       "  <thead>\n",
       "    <tr style=\"text-align: right;\">\n",
       "      <th>PURPOSE</th>\n",
       "      <th>Airport/Travel</th>\n",
       "      <th>Between Offices</th>\n",
       "      <th>Customer Visit</th>\n",
       "      <th>Errand/Supplies</th>\n",
       "      <th>Meal/Entertain</th>\n",
       "      <th>Meeting</th>\n",
       "      <th>Moving</th>\n",
       "      <th>Temporary Site</th>\n",
       "      <th>Unknown</th>\n",
       "    </tr>\n",
       "    <tr>\n",
       "      <th>TimeOfDay</th>\n",
       "      <th></th>\n",
       "      <th></th>\n",
       "      <th></th>\n",
       "      <th></th>\n",
       "      <th></th>\n",
       "      <th></th>\n",
       "      <th></th>\n",
       "      <th></th>\n",
       "      <th></th>\n",
       "    </tr>\n",
       "  </thead>\n",
       "  <tbody>\n",
       "    <tr>\n",
       "      <th>Night</th>\n",
       "      <td>0.0</td>\n",
       "      <td>12.4</td>\n",
       "      <td>51.9</td>\n",
       "      <td>19.2</td>\n",
       "      <td>15.0</td>\n",
       "      <td>8.4</td>\n",
       "      <td>0.0</td>\n",
       "      <td>0.0</td>\n",
       "      <td>38.2</td>\n",
       "    </tr>\n",
       "    <tr>\n",
       "      <th>Morning</th>\n",
       "      <td>7.6</td>\n",
       "      <td>51.0</td>\n",
       "      <td>131.6</td>\n",
       "      <td>42.1</td>\n",
       "      <td>159.1</td>\n",
       "      <td>258.2</td>\n",
       "      <td>18.2</td>\n",
       "      <td>89.4</td>\n",
       "      <td>583.0</td>\n",
       "    </tr>\n",
       "    <tr>\n",
       "      <th>Afternoon</th>\n",
       "      <td>8.9</td>\n",
       "      <td>17.7</td>\n",
       "      <td>891.0</td>\n",
       "      <td>166.5</td>\n",
       "      <td>213.9</td>\n",
       "      <td>693.3</td>\n",
       "      <td>0.0</td>\n",
       "      <td>203.5</td>\n",
       "      <td>2226.3</td>\n",
       "    </tr>\n",
       "    <tr>\n",
       "      <th>Evening</th>\n",
       "      <td>0.0</td>\n",
       "      <td>17.5</td>\n",
       "      <td>157.6</td>\n",
       "      <td>86.5</td>\n",
       "      <td>209.3</td>\n",
       "      <td>761.9</td>\n",
       "      <td>0.0</td>\n",
       "      <td>122.2</td>\n",
       "      <td>914.2</td>\n",
       "    </tr>\n",
       "  </tbody>\n",
       "</table>\n",
       "</div>"
      ],
      "text/plain": [
       "PURPOSE    Airport/Travel  Between Offices  Customer Visit  Errand/Supplies  \\\n",
       "TimeOfDay                                                                     \n",
       "Night                 0.0             12.4            51.9             19.2   \n",
       "Morning               7.6             51.0           131.6             42.1   \n",
       "Afternoon             8.9             17.7           891.0            166.5   \n",
       "Evening               0.0             17.5           157.6             86.5   \n",
       "\n",
       "PURPOSE    Meal/Entertain  Meeting  Moving  Temporary Site  Unknown  \n",
       "TimeOfDay                                                            \n",
       "Night                15.0      8.4     0.0             0.0     38.2  \n",
       "Morning             159.1    258.2    18.2            89.4    583.0  \n",
       "Afternoon           213.9    693.3     0.0           203.5   2226.3  \n",
       "Evening             209.3    761.9     0.0           122.2    914.2  "
      ]
     },
     "execution_count": 44,
     "metadata": {},
     "output_type": "execute_result"
    }
   ],
   "source": [
    "# Creating a pivot table with sum of 'MILES' for each 'TimeOfDay' period and 'PURPOSE'\n",
    "pivot_table = ride_data.pivot_table(index = 'TimeOfDay' , columns = 'PURPOSE' , values = 'MILES' , aggfunc = 'sum' , fill_value = 0)\n",
    "pivot_table"
   ]
  },
  {
   "cell_type": "code",
   "execution_count": 45,
   "id": "3995e859",
   "metadata": {},
   "outputs": [
    {
     "data": {
      "image/png": "[encoded data removed]",
      "text/plain": [
       "<Figure size 1008x576 with 1 Axes>"
      ]
     },
     "metadata": {
      "needs_background": "light"
     },
     "output_type": "display_data"
    }
   ],
   "source": [
    "# Converting the Dictionary into dataframe\n",
    "df_pivot = pd.DataFrame(pivot_table)\n",
    "\n",
    "# Melting the vizualization to work with Seaborn\n",
    "df_melted = df_pivot.reset_index().melt(id_vars = 'TimeOfDay' , var_name = 'PURPOSE' , value_name = 'MILES')\n",
    "\n",
    "plt.figure(figsize = (14,8))\n",
    "sns.barplot(x = 'PURPOSE' , y = 'MILES' , hue = 'TimeOfDay' , data = df_melted)\n",
    "plt.xticks(rotation = 60)\n",
    "plt.xlabel('PURPOSE')\n",
    "plt.ylabel('MILES')\n",
    "plt.legend(title = 'TimeOfDay')\n",
    "plt.title(\"Time of Day and Purpose against Miles Covered\")\n",
    "\n",
    "plt.show()"
   ]
  },
  {
   "cell_type": "code",
   "execution_count": 46,
   "id": "bb64577d",
   "metadata": {},
   "outputs": [
    {
     "name": "stderr",
     "output_type": "stream",
     "text": [
      "C:\\Users\\91932\\AppData\\Local\\Programs\\Python\\Python310\\lib\\site-packages\\sklearn\\cluster\\_kmeans.py:870: FutureWarning: The default value of `n_init` will change from 10 to 'auto' in 1.4. Set the value of `n_init` explicitly to suppress the warning\n",
      "  warnings.warn(\n"
     ]
    },
    {
     "name": "stdout",
     "output_type": "stream",
     "text": [
      "Cluster Analysis : \n",
      "         MILES                                                            \\\n",
      "         count        mean        std   min   25%    50%      75%    max   \n",
      "Cluster                                                                    \n",
      "0        342.0    8.437427   8.562111   0.6   2.9    6.2   10.400   68.4   \n",
      "1         16.0  141.662500  66.564614  37.7  95.1  134.8  195.375  310.3   \n",
      "2        373.0    8.105630   8.179015   0.5   3.0    5.5   10.500   57.0   \n",
      "\n",
      "          YEAR          ... START_HOUR       DURATION                         \\\n",
      "         count    mean  ...        75%   max    count        mean        std   \n",
      "Cluster                 ...                                                    \n",
      "0        342.0  2016.0  ...       13.0  14.0    342.0   20.713450  14.530776   \n",
      "1         16.0  2016.0  ...       18.5  22.0     16.0  172.500000  69.198266   \n",
      "2        373.0  2016.0  ...       20.0  23.0    373.0   23.120643  21.526526   \n",
      "\n",
      "                                             \n",
      "           min    25%    50%     75%    max  \n",
      "Cluster                                      \n",
      "0          0.0   10.0   17.0   28.00   88.0  \n",
      "1        103.0  126.0  163.0  178.75  336.0  \n",
      "2          2.0   10.0   17.0   29.00  154.0  \n",
      "\n",
      "[3 rows x 32 columns]\n"
     ]
    },
    {
     "data": {
      "image/png": "[encoded data removed]",
      "text/plain": [
       "<Figure size 720x432 with 1 Axes>"
      ]
     },
     "metadata": {
      "needs_background": "light"
     },
     "output_type": "display_data"
    }
   ],
   "source": [
    "# Using Kmeans clustering to group rides based on similarities in features .\n",
    "\n",
    "from sklearn.cluster import KMeans\n",
    "from sklearn.preprocessing import StandardScaler\n",
    "\n",
    "# Scaling the data \n",
    "scaler = StandardScaler()\n",
    "scaled_data = scaler.fit_transform(ride_data[['START_HOUR' , 'MILES' , 'DURATION']])\n",
    "\n",
    "# Performing K-means clustering \n",
    "kmeans = KMeans(n_clusters = 3)\n",
    "kmeans.fit(scaled_data)\n",
    "\n",
    "# Assigning cluster labels to data points\n",
    "ride_data['Cluster'] = kmeans.labels_\n",
    "\n",
    "# Grouping the data by cluster and calculate descriptive statistics\n",
    "grouped_data = ride_data.groupby('Cluster')\n",
    "print(\"Cluster Analysis : \")\n",
    "print(grouped_data.describe())\n",
    "\n",
    "# Vizualizing the clusters\n",
    "plt.figure(figsize = (10,6))\n",
    "sns.scatterplot(x = 'MILES' , y = 'START_HOUR' , hue = 'Cluster' , data = ride_data)\n",
    "plt.title('Clusters of Rides based on Start time , Miles and Purpose')\n",
    "plt.xlabel('Miles Traveled')\n",
    "plt.ylabel('Start Hour')\n",
    "plt.show()"
   ]
  },
  {
   "cell_type": "markdown",
   "id": "846889f2",
   "metadata": {},
   "source": [
    "Explaination - \n",
    "\n",
    "The data was clustered into 3 distinct groups based on start hour , miles traveled , and purpose .\n",
    "\n",
    "Each cluster exhibits unique characteristics in terms of these variables . \n",
    "\n",
    "Cluster O : This cluster is characterized by shorter trips (lower miles) that typically start during the morning and afternoon hours. The average duration of trips in this cluster is also relatively shorter. These trips are typically shorter in distance and duration , and they tend to start during the morning and afternoon hours. This suggests that these trips may be related to daily errand or commuting.\n",
    "\n",
    "Cluster 1 : This cluster represents trips with moderate distances and start times spread across the day. The average duration of trips in this cluster falls between the other two clusters . These trips have moderate distances and durations , and they start at various times throughout the day. This suggests that these trips may be a mix of different types of activities , such as work_related travel , shopping , or leisure activities .\n",
    "\n",
    "Cluster 2 : This cluster encompasses longer trips (higher miles) that mostly start during the evening and night hours. The average duration of trips in this cluster is the highest among all clusters. These trips are the longest in distance and duration , and they tend to start during the evening and night hours . This suggests that these trips may be related to social activities , such as going out to dinner or attending events ."
   ]
  },
  {
   "cell_type": "code",
   "execution_count": 47,
   "id": "5d41fdbc",
   "metadata": {},
   "outputs": [
    {
     "name": "stdout",
     "output_type": "stream",
     "text": [
      "Cluster Percentages : \n",
      "Cluster\n",
      "0    46.785226\n",
      "1     2.188782\n",
      "2    51.025992\n",
      "dtype: float64\n",
      "\n",
      " Cluster 0 Descriptive Statistics : \n",
      "            MILES    YEAR  START_HOUR    DURATION  Cluster\n",
      "count  342.000000   342.0  342.000000  342.000000    342.0\n",
      "mean     8.437427  2016.0   10.701754   20.713450      0.0\n",
      "std      8.562111     0.0    3.124766   14.530776      0.0\n",
      "min      0.600000  2016.0    0.000000    0.000000      0.0\n",
      "25%      2.900000  2016.0    9.250000   10.000000      0.0\n",
      "50%      6.200000  2016.0   11.000000   17.000000      0.0\n",
      "75%     10.400000  2016.0   13.000000   28.000000      0.0\n",
      "max     68.400000  2016.0   14.000000   88.000000      0.0\n",
      "\n",
      " Cluster 1 Descriptive Statistics : \n",
      "            MILES    YEAR  START_HOUR    DURATION  Cluster\n",
      "count   16.000000    16.0   16.000000   16.000000     16.0\n",
      "mean   141.662500  2016.0   16.562500  172.500000      1.0\n",
      "std     66.564614     0.0    2.988171   69.198266      0.0\n",
      "min     37.700000  2016.0   12.000000  103.000000      1.0\n",
      "25%     95.100000  2016.0   14.750000  126.000000      1.0\n",
      "50%    134.800000  2016.0   16.000000  163.000000      1.0\n",
      "75%    195.375000  2016.0   18.500000  178.750000      1.0\n",
      "max    310.300000  2016.0   22.000000  336.000000      1.0\n",
      "\n",
      " Cluster 2 Descriptive Statistics : \n",
      "            MILES    YEAR  START_HOUR    DURATION  Cluster\n",
      "count  373.000000   373.0  373.000000  373.000000    373.0\n",
      "mean     8.105630  2016.0   17.943700   23.120643      2.0\n",
      "std      8.179015     0.0    2.298795   21.526526      0.0\n",
      "min      0.500000  2016.0   14.000000    2.000000      2.0\n",
      "25%      3.000000  2016.0   16.000000   10.000000      2.0\n",
      "50%      5.500000  2016.0   18.000000   17.000000      2.0\n",
      "75%     10.500000  2016.0   20.000000   29.000000      2.0\n",
      "max     57.000000  2016.0   23.000000  154.000000      2.0\n"
     ]
    }
   ],
   "source": [
    "# Calculating the percentage of rides in each cluster\n",
    "cluster_percentages = (100 * ride_data.groupby('Cluster').size())/len(ride_data)\n",
    "\n",
    "# Printing the cluster percentages\n",
    "print(\"Cluster Percentages : \")\n",
    "print(cluster_percentages)\n",
    "\n",
    "# Analyzing the characteristics of each cluster \n",
    "for cluster in range(3):\n",
    "    cluster_data = ride_data[ride_data['Cluster'] == cluster]\n",
    "    \n",
    "    # Calculating descriptive statistics \n",
    "    descriptive_stats = cluster_data.describe()\n",
    "    \n",
    "    # Printing the descriptive statistics \n",
    "    print(\"\\n Cluster {} Descriptive Statistics : \".format(cluster))\n",
    "    print(descriptive_stats)"
   ]
  },
  {
   "cell_type": "code",
   "execution_count": 48,
   "id": "c13aff81",
   "metadata": {},
   "outputs": [
    {
     "name": "stdout",
     "output_type": "stream",
     "text": [
      "\n",
      "Top Purposes for Cluster 2:\n",
      "Unknown            173\n",
      "Meal/Entertain      61\n",
      "Errand/Supplies     48\n",
      "Name: PURPOSE, dtype: int64\n",
      "\n",
      "Top Times of Day for Cluster 2:\n",
      "Evening      195\n",
      "Afternoon    178\n",
      "Night          0\n",
      "Name: TimeOfDay, dtype: int64\n"
     ]
    },
    {
     "data": {
      "image/png": "[encoded data removed]",
      "text/plain": [
       "<Figure size 720x432 with 1 Axes>"
      ]
     },
     "metadata": {
      "needs_background": "light"
     },
     "output_type": "display_data"
    }
   ],
   "source": [
    "# Analyzing the most common purposes and time of day for each cluster\n",
    "\n",
    "top_purposes = cluster_data['PURPOSE'].value_counts().head(3)\n",
    "top_times = cluster_data['TimeOfDay'].value_counts().head(3)\n",
    "\n",
    "# Printing the top purposes and time of day\n",
    "print(\"\\nTop Purposes for Cluster {}:\".format(cluster))\n",
    "print(top_purposes)\n",
    "print(\"\\nTop Times of Day for Cluster {}:\".format(cluster))\n",
    "print(top_times)\n",
    "\n",
    "# Visualizing the clusters using different colors and markers \n",
    "\n",
    "plt.figure(figsize=(10, 6))\n",
    "for cluster in range(3):\n",
    "  cluster_data = ride_data[ride_data['Cluster'] == cluster]\n",
    "  plt.scatter(cluster_data['MILES'], cluster_data['START_HOUR'], label='Cluster {}'.format(cluster), color=['red', 'green', 'blue'][cluster], marker=['o', 's', '^'][cluster])\n",
    "plt.title('Clusters of Rides based on Start Time, Miles, and Purpose')\n",
    "plt.xlabel('Miles Traveled')\n",
    "plt.ylabel('Start Hour')\n",
    "plt.legend()\n",
    "plt.show()"
   ]
  },
  {
   "cell_type": "markdown",
   "id": "ef89b20a",
   "metadata": {},
   "source": [
    "#### Insights"
   ]
  },
  {
   "cell_type": "markdown",
   "id": "c401c879",
   "metadata": {},
   "source": [
    "- The most common purposes for ride-sharing are \"Meeting\" , \"Meal/Entertain\" , \"Errand/Supplies\" and \"Customer Visit\".\n",
    "- Rides for \"Meeting\" and \"Customer Visit\" purposes tend to be longer in duration and distance , while rides for \"Meal/Entertain\" and \"Errand/Supplies\" are shorter.\n",
    "- Ride counts are highest during the afternoon and evening hours , particularly for \"Meeting\" and \"Meal/Entertain\" purposes.\n",
    "- Weekends have lower ride counts compared to weekdays.\n",
    "- The average distance and duration of rides vary across different days of the week and time of day."
   ]
  },
  {
   "cell_type": "markdown",
   "id": "46847a6a",
   "metadata": {},
   "source": [
    "#### Recommendations"
   ]
  },
  {
   "cell_type": "markdown",
   "id": "9587110b",
   "metadata": {},
   "source": [
    "- Offer promotions or discounts during off-peak hours to increase ride utilization .\n",
    "- Introduce loyalty programs or incentives for frequent riders .\n",
    "- Develop targeted marketing campaigns based on ride purposes and user preferences.\n",
    "- Collaborate with businesses and event organizers to offer tailored ride-sharing options for their customers or attendees."
   ]
  },
  {
   "cell_type": "code",
   "execution_count": null,
   "id": "fc09e961",
   "metadata": {},
   "outputs": [],
   "source": []
  }
 ],
 "metadata": {
  "kernelspec": {
   "display_name": "Python 3 (ipykernel)",
   "language": "python",
   "name": "python3"
  },
  "language_info": {
   "codemirror_mode": {
    "name": "ipython",
    "version": 3
   },
   "file_extension": ".py",
   "mimetype": "text/x-python",
   "name": "python",
   "nbconvert_exporter": "python",
   "pygments_lexer": "ipython3",
   "version": "3.10.5"
  }
 },
 "nbformat": 4,
 "nbformat_minor": 5
}
